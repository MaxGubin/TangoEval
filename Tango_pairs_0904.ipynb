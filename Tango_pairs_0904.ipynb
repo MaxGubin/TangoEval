{
 "cells": [
  {
   "cell_type": "code",
   "execution_count": 1,
   "metadata": {
    "collapsed": false
   },
   "outputs": [
    {
     "data": {
      "text/plain": [
       "<module 'convert_to_pairs' from 'convert_to_pairs.pyc'>"
      ]
     },
     "execution_count": 1,
     "metadata": {},
     "output_type": "execute_result"
    }
   ],
   "source": [
    "import utils\n",
    "reload(utils)\n",
    "import convert_to_pairs\n",
    "reload(convert_to_pairs)"
   ]
  },
  {
   "cell_type": "code",
   "execution_count": 2,
   "metadata": {
    "collapsed": false
   },
   "outputs": [],
   "source": [
    "#convert_to_pairs.processFileConcatFeatures('data_0904/US','data_0904/US_pairs', 5000000)"
   ]
  },
  {
   "cell_type": "code",
   "execution_count": 3,
   "metadata": {
    "collapsed": false
   },
   "outputs": [
    {
     "name": "stdout",
     "output_type": "stream",
     "text": [
      "CPU times: user 23.6 s, sys: 1.27 s, total: 24.9 s\n",
      "Wall time: 24.9 s\n"
     ]
    }
   ],
   "source": [
    "%time X_us_train, X_us_test, y_us_train, y_us_test = convert_to_pairs.LoadPairsConcatDataset('data_0904/US_pairs', 0.33)"
   ]
  },
  {
   "cell_type": "code",
   "execution_count": 4,
   "metadata": {
    "collapsed": false
   },
   "outputs": [
    {
     "name": "stderr",
     "output_type": "stream",
     "text": [
      "[Parallel(n_jobs=4)]: Done   1 out of 100 | elapsed:   15.3s remaining: 25.3min\n",
      "[Parallel(n_jobs=4)]: Done 100 out of 100 | elapsed:  6.5min finished\n"
     ]
    },
    {
     "name": "stdout",
     "output_type": "stream",
     "text": [
      "CPU times: user 25min 50s, sys: 1.88 s, total: 25min 52s\n",
      "Wall time: 6min 33s\n"
     ]
    }
   ],
   "source": [
    "from sklearn.ensemble import RandomForestClassifier\n",
    "rndf_us = RandomForestClassifier(n_estimators=100, max_depth=None, random_state=0, n_jobs=4,verbose=1)\n",
    "%time rndf_us = rndf_us.fit(X_us_train, y_us_train)"
   ]
  },
  {
   "cell_type": "code",
   "execution_count": 5,
   "metadata": {
    "collapsed": false
   },
   "outputs": [
    {
     "name": "stderr",
     "output_type": "stream",
     "text": [
      "[Parallel(n_jobs=4)]: Done   1 out of 100 | elapsed:    1.1s remaining:  1.8min\n",
      "[Parallel(n_jobs=4)]: Done 100 out of 100 | elapsed:   29.6s finished\n",
      "[Parallel(n_jobs=4)]: Done   1 out of 100 | elapsed:    1.2s remaining:  1.9min\n",
      "[Parallel(n_jobs=4)]: Done 100 out of 100 | elapsed:   29.3s finished\n"
     ]
    },
    {
     "name": "stdout",
     "output_type": "stream",
     "text": [
      " mean_precision:0.904688508312 roc_auc_score :0.967895507081\n"
     ]
    }
   ],
   "source": [
    "print  utils.classifierMetrics(rndf_us, X_us_test, y_us_test)"
   ]
  },
  {
   "cell_type": "code",
   "execution_count": 9,
   "metadata": {
    "collapsed": false
   },
   "outputs": [
    {
     "data": {
      "text/html": [
       "<table><tr><th>Feature</th><th>US</th></tr><tr><td>wink_daily_16</td><td>0.0978079721122</td></tr><tr><td>wink_daily_44</td><td>0.0959343278423</td></tr><tr><td>distance_26</td><td>0.0847955816705</td></tr><tr><td>distance_54</td><td>0.0839951566258</td></tr><tr><td>picture_daily_14</td><td>0.0379381740884</td></tr><tr><td>picture_daily_42</td><td>0.0374626478967</td></tr><tr><td>age_19</td><td>0.0373272938469</td></tr><tr><td>beauty_20</td><td>0.0370145400226</td></tr><tr><td>age_47</td><td>0.0368317155967</td></tr><tr><td>beauty_48</td><td>0.0363776170627</td></tr><tr><td>bright_21</td><td>0.0300475290819</td></tr><tr><td>bright_49</td><td>0.0299245754077</td></tr><tr><td>fav_ratio_27</td><td>0.0282380871803</td></tr><tr><td>fav_ratio_55</td><td>0.0279111949381</td></tr><tr><td>update_profile_daily_15</td><td>0.0259080294189</td></tr><tr><td>sharp_22</td><td>0.0259375815072</td></tr><tr><td>sharp_50</td><td>0.025924165311</td></tr><tr><td>update_profile_daily_43</td><td>0.0256965373151</td></tr><tr><td>white_23</td><td>0.0159917687286</td></tr><tr><td>white_51</td><td>0.0157954750971</td></tr><tr><td>asian_25</td><td>0.0118696995971</td></tr><tr><td>asian_53</td><td>0.0117532625959</td></tr><tr><td>indian_24</td><td>0.0115926119945</td></tr><tr><td>indian_52</td><td>0.0114968169631</td></tr><tr><td>same_locale_1</td><td>0.0091100997798</td></tr><tr><td>same_locale_29</td><td>0.00879730042685</td></tr><tr><td>picture_30days_17</td><td>0.00816133574023</td></tr><tr><td>picture_30days_45</td><td>0.00808554853718</td></tr><tr><td>num_face_18</td><td>0.00773097952157</td></tr><tr><td>num_face_46</td><td>0.00773325921699</td></tr><tr><td>same_country_0</td><td>0.00759256589208</td></tr><tr><td>same_country_28</td><td>0.00751256401511</td></tr><tr><td>gender_mm_2</td><td>0.00552625201694</td></tr><tr><td>gender_mm_30</td><td>0.00553214312205</td></tr><tr><td>gender_um_8</td><td>0.00433165064697</td></tr><tr><td>gender_um_36</td><td>0.00436688034056</td></tr><tr><td>gender_m_11</td><td>0.00397242297409</td></tr><tr><td>gender_m_39</td><td>0.00396610470514</td></tr><tr><td>gender_mu_4</td><td>0.00370081308267</td></tr><tr><td>gender_u_13</td><td>0.00372975787667</td></tr><tr><td>gender_mu_32</td><td>0.00367779340483</td></tr><tr><td>gender_u_41</td><td>0.00370085691666</td></tr><tr><td>gender_uu_10</td><td>0.00267250321491</td></tr><tr><td>gender_uu_38</td><td>0.00270465833304</td></tr><tr><td>gender_f_12</td><td>0.000742997743674</td></tr><tr><td>gender_f_40</td><td>0.000759358756571</td></tr><tr><td>gender_mf_3</td><td>0.000632701194116</td></tr><tr><td>gender_mf_31</td><td>0.000627083981213</td></tr><tr><td>gender_fm_5</td><td>0.000245952514099</td></tr><tr><td>gender_uf_9</td><td>0.00023843527203</td></tr><tr><td>gender_fm_33</td><td>0.000236462847678</td></tr><tr><td>gender_uf_37</td><td>0.000232805941113</td></tr><tr><td>gender_ff_6</td><td>6.09853867033e-08</td></tr><tr><td>gender_fu_7</td><td>5.49773852991e-05</td></tr><tr><td>gender_ff_34</td><td>3.94962292046e-08</td></tr><tr><td>gender_fu_35</td><td>5.12722168339e-05</td></tr></table>"
      ],
      "text/plain": [
       "[('wink_daily_16', 0.097807972112173902),\n",
       " ('wink_daily_44', 0.095934327842329109),\n",
       " ('distance_26', 0.084795581670528877),\n",
       " ('distance_54', 0.083995156625781664),\n",
       " ('picture_daily_14', 0.037938174088379434),\n",
       " ('picture_daily_42', 0.037462647896689925),\n",
       " ('age_19', 0.037327293846902601),\n",
       " ('beauty_20', 0.03701454002257052),\n",
       " ('age_47', 0.03683171559667129),\n",
       " ('beauty_48', 0.036377617062744644),\n",
       " ('bright_21', 0.030047529081892108),\n",
       " ('bright_49', 0.029924575407670663),\n",
       " ('fav_ratio_27', 0.02823808718027589),\n",
       " ('fav_ratio_55', 0.027911194938132464),\n",
       " ('update_profile_daily_15', 0.025908029418948309),\n",
       " ('sharp_22', 0.025937581507201952),\n",
       " ('sharp_50', 0.025924165311035793),\n",
       " ('update_profile_daily_43', 0.025696537315091802),\n",
       " ('white_23', 0.01599176872860841),\n",
       " ('white_51', 0.015795475097141271),\n",
       " ('asian_25', 0.011869699597109621),\n",
       " ('asian_53', 0.011753262595880071),\n",
       " ('indian_24', 0.011592611994536643),\n",
       " ('indian_52', 0.011496816963126471),\n",
       " ('same_locale_1', 0.0091100997797955736),\n",
       " ('same_locale_29', 0.0087973004268507935),\n",
       " ('picture_30days_17', 0.0081613357402335641),\n",
       " ('picture_30days_45', 0.0080855485371784455),\n",
       " ('num_face_18', 0.0077309795215735133),\n",
       " ('num_face_46', 0.0077332592169880345),\n",
       " ('same_country_0', 0.0075925658920772219),\n",
       " ('same_country_28', 0.0075125640151122034),\n",
       " ('gender_mm_2', 0.0055262520169417559),\n",
       " ('gender_mm_30', 0.0055321431220501692),\n",
       " ('gender_um_8', 0.0043316506469691894),\n",
       " ('gender_um_36', 0.0043668803405607758),\n",
       " ('gender_m_11', 0.0039724229740926284),\n",
       " ('gender_m_39', 0.0039661047051404892),\n",
       " ('gender_mu_4', 0.0037008130826677193),\n",
       " ('gender_u_13', 0.0037297578766691463),\n",
       " ('gender_mu_32', 0.0036777934048282568),\n",
       " ('gender_u_41', 0.0037008569166562862),\n",
       " ('gender_uu_10', 0.0026725032149110583),\n",
       " ('gender_uu_38', 0.0027046583330377965),\n",
       " ('gender_f_12', 0.00074299774367434846),\n",
       " ('gender_f_40', 0.00075935875657052792),\n",
       " ('gender_mf_3', 0.00063270119411557881),\n",
       " ('gender_mf_31', 0.00062708398121331249),\n",
       " ('gender_fm_5', 0.00024595251409871766),\n",
       " ('gender_uf_9', 0.00023843527203040491),\n",
       " ('gender_fm_33', 0.00023646284767775888),\n",
       " ('gender_uf_37', 0.00023280594111258786),\n",
       " ('gender_ff_6', 6.0985386703264917e-08),\n",
       " ('gender_fu_7', 5.4977385299068779e-05),\n",
       " ('gender_ff_34', 3.9496229204556242e-08),\n",
       " ('gender_fu_35', 5.1272216833852089e-05)]"
      ]
     },
     "execution_count": 9,
     "metadata": {},
     "output_type": "execute_result"
    }
   ],
   "source": [
    "feature_names=[\"same_country\",\"same_locale\",\"gender_mm\",\"gender_mf\",\"gender_mu\",\"gender_fm\",\"gender_ff\",\"gender_fu\",\n",
    "               \"gender_um\",\"gender_uf\",\"gender_uu\",\"gender_m\",\"gender_f\",\"gender_u\",\"picture_daily\",\"update_profile_daily\",\n",
    "               \"wink_daily\",\"picture_30days\",\"num_face\",\"age\",\"beauty\",\"bright\",\"sharp\",\"white\",\"indian\",\"asian\",\"distance\",\n",
    "               \"fav_ratio\"]\n",
    "feature_names_indx = [f + '_' + str(i) for i,f in enumerate(2*feature_names)]\n",
    "ftrs = [(n, s1) for (n, s1) in zip(feature_names_indx, rndf_us.feature_importances_)]\n",
    "ftrs.sort(lambda x1, x2: int(10000.0*(x2[1]-x1[1])))\n",
    "utils.ListTable(ftrs).SetHeaders((\"Feature\", \"US\"))"
   ]
  },
  {
   "cell_type": "code",
   "execution_count": null,
   "metadata": {
    "collapsed": false
   },
   "outputs": [],
   "source": [
    "from sklearn.ensemble import GradientBoostingClassifier\n",
    "gb_us = GradientBoostingClassifier(verbose=1, max_depth =6)\n",
    "%time gb_us= gb_us.fit(X_us_train, y_us_train)"
   ]
  },
  {
   "cell_type": "code",
   "execution_count": null,
   "metadata": {
    "collapsed": false
   },
   "outputs": [],
   "source": [
    "print \"US\", utils.classifierMetrics(gb_us, X_us_test, y_us_test)"
   ]
  },
  {
   "cell_type": "code",
   "execution_count": null,
   "metadata": {
    "collapsed": false
   },
   "outputs": [],
   "source": [
    "from sklearn.linear_model import LogisticRegression\n",
    "lr_us = LogisticRegression(penalty='l2')\n",
    "%time lr_us= lr_us.fit(X_us_train, y_us_train)\n",
    "print \"US\", utils.classifierMetrics(lr_us, X_us_test, y_us_test)\n"
   ]
  },
  {
   "cell_type": "code",
   "execution_count": null,
   "metadata": {
    "collapsed": false
   },
   "outputs": [],
   "source": [
    "#convert_to_pairs.processFileDiffFeatures('data_0904/US','data_0904/US_pairs_diff', 0)"
   ]
  },
  {
   "cell_type": "code",
   "execution_count": null,
   "metadata": {
    "collapsed": false
   },
   "outputs": [],
   "source": [
    "%time X_us_d_train, X_us_d_test, y_us_d_train, y_us_d_test = convert_to_pairs.LoadPairsDiffDataset('data_0904/US_pairs_diff', 0.33)"
   ]
  },
  {
   "cell_type": "code",
   "execution_count": 12,
   "metadata": {
    "collapsed": false
   },
   "outputs": [
    {
     "name": "stdout",
     "output_type": "stream",
     "text": [
      "CPU times: user 3min 9s, sys: 12 ms, total: 3min 9s\n",
      "Wall time: 3min 10s\n",
      " US  mean_precision:0.606916263393 roc_auc_score :0.639963180103\n"
     ]
    }
   ],
   "source": [
    "from sklearn.linear_model import LogisticRegression\n",
    "lr_us = LogisticRegression(penalty='l2')\n",
    "%time lr_us = lr_us.fit(X_us_train, y_us_train)\n",
    "print \"US\", utils.classifierMetrics(lr_us, X_us_test, y_us_test)"
   ]
  },
  {
   "cell_type": "code",
   "execution_count": null,
   "metadata": {
    "collapsed": false
   },
   "outputs": [],
   "source": [
    "from sklearn.ensemble import GradientBoostingClassifier\n",
    "gb_us_d = GradientBoostingClassifier(verbose=1)\n",
    "%time gb_us_d = gb_us_d.fit(X_us_d_train, y_us_d_train)"
   ]
  },
  {
   "cell_type": "code",
   "execution_count": null,
   "metadata": {
    "collapsed": false
   },
   "outputs": [],
   "source": [
    "print \"US\", utils.classifierMetrics(gb_us, X_us_test, y_us_test)"
   ]
  },
  {
   "cell_type": "code",
   "execution_count": null,
   "metadata": {
    "collapsed": true
   },
   "outputs": [],
   "source": []
  }
 ],
 "metadata": {
  "kernelspec": {
   "display_name": "Python 2",
   "language": "python",
   "name": "python2"
  },
  "language_info": {
   "codemirror_mode": {
    "name": "ipython",
    "version": 2
   },
   "file_extension": ".py",
   "mimetype": "text/x-python",
   "name": "python",
   "nbconvert_exporter": "python",
   "pygments_lexer": "ipython2",
   "version": "2.7.10"
  }
 },
 "nbformat": 4,
 "nbformat_minor": 0
}
