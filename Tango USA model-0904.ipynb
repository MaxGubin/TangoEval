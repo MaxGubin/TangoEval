{
 "cells": [
  {
   "cell_type": "code",
   "execution_count": 2,
   "metadata": {
    "collapsed": false
   },
   "outputs": [
    {
     "data": {
      "text/plain": [
       "<module 'utils' from 'utils.pyc'>"
      ]
     },
     "execution_count": 2,
     "metadata": {},
     "output_type": "execute_result"
    }
   ],
   "source": [
    "%matplotlib inline\n",
    "import utils\n",
    "reload(utils)"
   ]
  },
  {
   "cell_type": "markdown",
   "metadata": {},
   "source": [
    "Loading data from us sample"
   ]
  },
  {
   "cell_type": "code",
   "execution_count": 3,
   "metadata": {
    "collapsed": false
   },
   "outputs": [
    {
     "name": "stdout",
     "output_type": "stream",
     "text": [
      "CPU times: user 33.1 s, sys: 2.85 s, total: 35.9 s\n",
      "Wall time: 36 s\n"
     ]
    }
   ],
   "source": [
    "\n",
    "%time X_us_train, X_us_test, y_us_train, y_us_test = utils.LoadDataset('data_0904/US', 0.33)\n"
   ]
  },
  {
   "cell_type": "markdown",
   "metadata": {},
   "source": [
    "Train random forest models"
   ]
  },
  {
   "cell_type": "code",
   "execution_count": null,
   "metadata": {
    "collapsed": false
   },
   "outputs": [],
   "source": [
    "from sklearn.ensemble import RandomForestClassifier\n",
    "rndf_us = RandomForestClassifier(n_estimators=300, max_depth=None, random_state=0, n_jobs=4,verbose=1)\n",
    "%time rndf_us = rndf_us.fit(X_us_train, y_us_train)\n"
   ]
  },
  {
   "cell_type": "markdown",
   "metadata": {},
   "source": [
    "Evaluate classifiers"
   ]
  },
  {
   "cell_type": "code",
   "execution_count": 21,
   "metadata": {
    "collapsed": false
   },
   "outputs": [
    {
     "name": "stdout",
     "output_type": "stream",
     "text": [
      " mean_precision:0.96305020415 roc_auc_score :0.604439037812\n"
     ]
    }
   ],
   "source": [
    "\n",
    "print  utils.classifierMetrics(rndf_us, X_us_test, y_us_test)\n"
   ]
  },
  {
   "cell_type": "code",
   "execution_count": 8,
   "metadata": {
    "collapsed": false
   },
   "outputs": [
    {
     "data": {
      "text/html": [
       "<table><tr><th>Feature</th><th>US</th></tr><tr><td>distance</td><td>0.237523345088</td></tr><tr><td>wink_daily</td><td>0.219254804918</td></tr><tr><td>picture_daily</td><td>0.0837391134252</td></tr><tr><td>age</td><td>0.0634195185624</td></tr><tr><td>beauty</td><td>0.0633943488872</td></tr><tr><td>fav_ratio</td><td>0.0604501492739</td></tr><tr><td>update_profile_daily</td><td>0.0557133787186</td></tr><tr><td>bright</td><td>0.0506503116074</td></tr><tr><td>sharp</td><td>0.0410127822107</td></tr><tr><td>white</td><td>0.0260862908244</td></tr><tr><td>asian</td><td>0.0196391195648</td></tr><tr><td>indian</td><td>0.0186289442766</td></tr><tr><td>same_locale</td><td>0.0111073018904</td></tr><tr><td>picture_30days</td><td>0.0110083540007</td></tr><tr><td>num_face</td><td>0.00941495962286</td></tr><tr><td>same_country</td><td>0.00879160489904</td></tr><tr><td>gender_mm</td><td>0.0057281460706</td></tr><tr><td>gender_um</td><td>0.00329264500669</td></tr><tr><td>gender_uu</td><td>0.00318477053732</td></tr><tr><td>gender_mu</td><td>0.0025133077172</td></tr><tr><td>gender_u</td><td>0.00207235409406</td></tr><tr><td>gender_m</td><td>0.00181371068344</td></tr><tr><td>gender_mf</td><td>0.00050368610573</td></tr><tr><td>gender_f</td><td>0.000553124931302</td></tr><tr><td>gender_uf</td><td>0.000277171402445</td></tr><tr><td>gender_fm</td><td>0.000142432303736</td></tr><tr><td>gender_ff</td><td>3.0537205415e-07</td></tr><tr><td>gender_fu</td><td>8.4018004706e-05</td></tr></table>"
      ],
      "text/plain": [
       "[('distance', 0.23752334508820142),\n",
       " ('wink_daily', 0.21925480491832935),\n",
       " ('picture_daily', 0.083739113425152251),\n",
       " ('age', 0.063419518562395694),\n",
       " ('beauty', 0.063394348887189172),\n",
       " ('fav_ratio', 0.060450149273871621),\n",
       " ('update_profile_daily', 0.055713378718618228),\n",
       " ('bright', 0.05065031160742188),\n",
       " ('sharp', 0.04101278221067331),\n",
       " ('white', 0.026086290824411128),\n",
       " ('asian', 0.019639119564796546),\n",
       " ('indian', 0.018628944276620495),\n",
       " ('same_locale', 0.011107301890434927),\n",
       " ('picture_30days', 0.011008354000698641),\n",
       " ('num_face', 0.0094149596228600922),\n",
       " ('same_country', 0.0087916048990365463),\n",
       " ('gender_mm', 0.0057281460705992607),\n",
       " ('gender_um', 0.0032926450066858327),\n",
       " ('gender_uu', 0.0031847705373235545),\n",
       " ('gender_mu', 0.0025133077172008749),\n",
       " ('gender_u', 0.0020723540940613657),\n",
       " ('gender_m', 0.0018137106834449602),\n",
       " ('gender_mf', 0.00050368610572952381),\n",
       " ('gender_f', 0.00055312493130243241),\n",
       " ('gender_uf', 0.00027717140244502012),\n",
       " ('gender_fm', 0.00014243230373577693),\n",
       " ('gender_ff', 3.0537205414978319e-07),\n",
       " ('gender_fu', 8.4018004706002279e-05)]"
      ]
     },
     "execution_count": 8,
     "metadata": {},
     "output_type": "execute_result"
    }
   ],
   "source": [
    "feature_names=[\"same_country\",\"same_locale\",\"gender_mm\",\"gender_mf\",\"gender_mu\",\"gender_fm\",\"gender_ff\",\"gender_fu\",\n",
    "               \"gender_um\",\"gender_uf\",\"gender_uu\",\"gender_m\",\"gender_f\",\"gender_u\",\"picture_daily\",\"update_profile_daily\",\n",
    "               \"wink_daily\",\"picture_30days\",\"num_face\",\"age\",\"beauty\",\"bright\",\"sharp\",\"white\",\"indian\",\"asian\",\"distance\",\n",
    "               \"fav_ratio\"]\n",
    "ftrs = [(n, s1) for (n, s1) in zip(feature_names, rndf_us.feature_importances_)]\n",
    "ftrs.sort(lambda x1, x2: int(10000.0*(x2[1]-x1[1])))\n",
    "utils.ListTable(ftrs).SetHeaders((\"Feature\", \"US\"))"
   ]
  },
  {
   "cell_type": "markdown",
   "metadata": {},
   "source": [
    "Precision Recall curves"
   ]
  },
  {
   "cell_type": "code",
   "execution_count": 12,
   "metadata": {
    "collapsed": false
   },
   "outputs": [
    {
     "data": {
      "image/png": "[encoded data removed]",
      "text/plain": [
       "<matplotlib.figure.Figure at 0x7fea6480d050>"
      ]
     },
     "metadata": {},
     "output_type": "display_data"
    }
   ],
   "source": [
    "from sklearn.metrics import precision_recall_curve\n",
    "y_us_score = rndf_us.predict_proba(X_us_test)\n",
    "precision_us, recall_us, _ = precision_recall_curve(y_us_test, y_us_score[:,1])\n",
    "utils.drawPRCurves(((recall_us, precision_us, \"US\"),))"
   ]
  },
  {
   "cell_type": "markdown",
   "metadata": {},
   "source": [
    "Logistic Regression"
   ]
  },
  {
   "cell_type": "code",
   "execution_count": 13,
   "metadata": {
    "collapsed": false
   },
   "outputs": [
    {
     "name": "stdout",
     "output_type": "stream",
     "text": [
      "CPU times: user 2min 4s, sys: 2.54 s, total: 2min 7s\n",
      "Wall time: 2min 29s\n",
      "US  mean_precision:0.967063584286 roc_auc_score :0.638899761219\n"
     ]
    }
   ],
   "source": [
    "from sklearn.linear_model import LogisticRegression\n",
    "lr_us = LogisticRegression(penalty='l2')\n",
    "%time lr_us= lr_us.fit(X_us_train, y_us_train)\n",
    "print \"US\", utils.classifierMetrics(lr_us, X_us_test, y_us_test)\n"
   ]
  },
  {
   "cell_type": "code",
   "execution_count": 15,
   "metadata": {
    "collapsed": false,
    "scrolled": false
   },
   "outputs": [
    {
     "data": {
      "text/html": [
       "<table><tr><th>Feature</th><th>US</th></tr><tr><td>distance</td><td>2.51289844669</td></tr><tr><td>beauty</td><td>0.444691438051</td></tr><tr><td>gender_u</td><td>0.325425125047</td></tr><tr><td>same_locale</td><td>0.203351325683</td></tr><tr><td>picture_30days</td><td>0.188948259824</td></tr><tr><td>gender_m</td><td>0.148619384983</td></tr><tr><td>gender_fm</td><td>0.0450482161727</td></tr><tr><td>gender_fu</td><td>0.0112210733175</td></tr><tr><td>wink_daily</td><td>0.0068910263072</td></tr><tr><td>update_profile_daily</td><td>0.00126280330353</td></tr><tr><td>gender_ff</td><td>-0.00125190789901</td></tr><tr><td>picture_daily</td><td>-0.0017392416754</td></tr><tr><td>num_face</td><td>-0.0018592658462</td></tr><tr><td>sharp</td><td>-0.00184422672049</td></tr><tr><td>bright</td><td>-0.00290967679649</td></tr><tr><td>age</td><td>-0.00562361815636</td></tr><tr><td>gender_uu</td><td>-0.0721827959217</td></tr><tr><td>asian</td><td>-0.106594476598</td></tr><tr><td>gender_uf</td><td>-0.109928320808</td></tr><tr><td>white</td><td>-0.129706632771</td></tr><tr><td>fav_ratio</td><td>-0.203270160624</td></tr><tr><td>gender_um</td><td>-0.216785898175</td></tr><tr><td>indian</td><td>-0.229713106693</td></tr><tr><td>gender_mf</td><td>-0.270743619276</td></tr><tr><td>same_country</td><td>-0.27238788836</td></tr><tr><td>gender_f</td><td>-0.304787416471</td></tr><tr><td>gender_mu</td><td>-0.476886511492</td></tr><tr><td>gender_mm</td><td>-0.584115004015</td></tr></table>"
      ],
      "text/plain": [
       "[('distance', 2.5128984466860018),\n",
       " ('beauty', 0.444691438051385),\n",
       " ('gender_u', 0.32542512504740412),\n",
       " ('same_locale', 0.20335132568253966),\n",
       " ('picture_30days', 0.18894825982448313),\n",
       " ('gender_m', 0.14861938498312893),\n",
       " ('gender_fm', 0.045048216172707448),\n",
       " ('gender_fu', 0.011221073317498808),\n",
       " ('wink_daily', 0.0068910263072037127),\n",
       " ('update_profile_daily', 0.001262803303530703),\n",
       " ('gender_ff', -0.0012519078990132775),\n",
       " ('picture_daily', -0.0017392416753992262),\n",
       " ('num_face', -0.0018592658461981711),\n",
       " ('sharp', -0.0018442267204932022),\n",
       " ('bright', -0.0029096767964853412),\n",
       " ('age', -0.0056236181563586217),\n",
       " ('gender_uu', -0.072182795921652818),\n",
       " ('asian', -0.10659447659827609),\n",
       " ('gender_uf', -0.10992832080834927),\n",
       " ('white', -0.12970663277086175),\n",
       " ('fav_ratio', -0.20327016062430914),\n",
       " ('gender_um', -0.21678589817454957),\n",
       " ('indian', -0.22971310669314449),\n",
       " ('gender_mf', -0.27074361927576457),\n",
       " ('same_country', -0.27238788835967126),\n",
       " ('gender_f', -0.30478741647081919),\n",
       " ('gender_mu', -0.47688651149202593),\n",
       " ('gender_mm', -0.58411500401464689)]"
      ]
     },
     "execution_count": 15,
     "metadata": {},
     "output_type": "execute_result"
    }
   ],
   "source": [
    "lr_us.coef_[0,:]\n",
    "ftrs = [(n, s1) for (n, s1) in zip(feature_names, lr_us.coef_[0,:])]\n",
    "ftrs.sort(lambda x1, x2: int(10000.0*(x2[1]-x1[1])))\n",
    "utils.ListTable(ftrs).SetHeaders((\"Feature\", \"US\"))"
   ]
  },
  {
   "cell_type": "markdown",
   "metadata": {},
   "source": [
    "GB Classifier"
   ]
  },
  {
   "cell_type": "code",
   "execution_count": null,
   "metadata": {
    "collapsed": false
   },
   "outputs": [
    {
     "name": "stdout",
     "output_type": "stream",
     "text": [
      "      Iter       Train Loss   Remaining Time \n",
      "         1           0.2866           70.06m\n",
      "         2           0.2851           54.94m\n",
      "         3           0.2839           49.61m\n",
      "         4           0.2829           46.66m\n",
      "         5           0.2821           44.84m\n",
      "         6           0.2813           43.47m\n",
      "         7           0.2807           42.30m\n",
      "         8           0.2802           41.27m\n",
      "         9           0.2797           40.34m\n",
      "        10           0.2793           39.59m\n",
      "        20           0.2773           33.63m\n",
      "        30           0.2764           28.76m\n",
      "        40           0.2759           24.32m\n",
      "        50           0.2755           20.16m\n",
      "        60           0.2753           16.00m\n",
      "        70           0.2751           11.89m"
     ]
    }
   ],
   "source": [
    "from sklearn.ensemble import GradientBoostingClassifier\n",
    "gb_us = GradientBoostingClassifier(verbose=1)\n",
    "%time gb_us= gb_us.fit(X_us_train, y_us_train)\n"
   ]
  },
  {
   "cell_type": "code",
   "execution_count": 17,
   "metadata": {
    "collapsed": false
   },
   "outputs": [
    {
     "name": "stdout",
     "output_type": "stream",
     "text": [
      "US  mean_precision:0.967064245142 roc_auc_score :0.682510582515\n"
     ]
    }
   ],
   "source": [
    "print \"US\", utils.classifierMetrics(gb_us, X_us_test, y_us_test)\n"
   ]
  },
  {
   "cell_type": "code",
   "execution_count": 18,
   "metadata": {
    "collapsed": false
   },
   "outputs": [
    {
     "data": {
      "text/html": [
       "<table><tr><th>Feature</th><th>US</th></tr><tr><td>distance</td><td>0.237929408987</td></tr><tr><td>wink_daily</td><td>0.178746669608</td></tr><tr><td>beauty</td><td>0.0781002339085</td></tr><tr><td>age</td><td>0.0762006891156</td></tr><tr><td>gender_mm</td><td>0.0580509486559</td></tr><tr><td>gender_uu</td><td>0.0440049834934</td></tr><tr><td>same_locale</td><td>0.0414463461901</td></tr><tr><td>fav_ratio</td><td>0.0398101827656</td></tr><tr><td>gender_um</td><td>0.0359933613836</td></tr><tr><td>picture_daily</td><td>0.0350539905744</td></tr><tr><td>gender_mu</td><td>0.0342329249197</td></tr><tr><td>update_profile_daily</td><td>0.0300591984826</td></tr><tr><td>same_country</td><td>0.02631289116</td></tr><tr><td>sharp</td><td>0.0209891282289</td></tr><tr><td>asian</td><td>0.0146344580641</td></tr><tr><td>indian</td><td>0.0117429958187</td></tr><tr><td>white</td><td>0.00991832962302</td></tr><tr><td>gender_mf</td><td>0.00981546388703</td></tr><tr><td>bright</td><td>0.00450694133863</td></tr><tr><td>gender_f</td><td>0.00408955254566</td></tr><tr><td>num_face</td><td>0.00356739852741</td></tr><tr><td>gender_fm</td><td>0.00164235678825</td></tr><tr><td>gender_u</td><td>0.00155229209155</td></tr><tr><td>picture_30days</td><td>0.00159925384213</td></tr><tr><td>gender_ff</td><td>0.0</td></tr><tr><td>gender_fu</td><td>0.0</td></tr><tr><td>gender_uf</td><td>0.0</td></tr><tr><td>gender_m</td><td>0.0</td></tr></table>"
      ],
      "text/plain": [
       "[('distance', 0.23792940898745912),\n",
       " ('wink_daily', 0.17874666960769761),\n",
       " ('beauty', 0.078100233908455607),\n",
       " ('age', 0.076200689115591316),\n",
       " ('gender_mm', 0.058050948655940147),\n",
       " ('gender_uu', 0.044004983493440432),\n",
       " ('same_locale', 0.04144634619006933),\n",
       " ('fav_ratio', 0.03981018276560349),\n",
       " ('gender_um', 0.035993361383595608),\n",
       " ('picture_daily', 0.035053990574440953),\n",
       " ('gender_mu', 0.034232924919723795),\n",
       " ('update_profile_daily', 0.030059198482637949),\n",
       " ('same_country', 0.026312891159995168),\n",
       " ('sharp', 0.020989128228896477),\n",
       " ('asian', 0.014634458064092084),\n",
       " ('indian', 0.011742995818687717),\n",
       " ('white', 0.0099183296230164857),\n",
       " ('gender_mf', 0.0098154638870348431),\n",
       " ('bright', 0.0045069413386259359),\n",
       " ('gender_f', 0.0040895525456603457),\n",
       " ('num_face', 0.0035673985274063719),\n",
       " ('gender_fm', 0.001642356788249284),\n",
       " ('gender_u', 0.0015522920915476449),\n",
       " ('picture_30days', 0.0015992538421320983),\n",
       " ('gender_ff', 0.0),\n",
       " ('gender_fu', 0.0),\n",
       " ('gender_uf', 0.0),\n",
       " ('gender_m', 0.0)]"
      ]
     },
     "execution_count": 18,
     "metadata": {},
     "output_type": "execute_result"
    }
   ],
   "source": [
    "ftrs = [(n, s1) for (n, s1) in zip(feature_names, gb_us.feature_importances_)]\n",
    "ftrs.sort(lambda x1, x2: int(10000.0*(x2[1]-x1[1])))\n",
    "utils.ListTable(ftrs).SetHeaders((\"Feature\", \"US\"))"
   ]
  },
  {
   "cell_type": "code",
   "execution_count": 19,
   "metadata": {
    "collapsed": false
   },
   "outputs": [
    {
     "data": {
      "image/png": "[encoded data removed]",
      "text/plain": [
       "<matplotlib.figure.Figure at 0x7fea647e3ad0>"
      ]
     },
     "metadata": {},
     "output_type": "display_data"
    }
   ],
   "source": [
    "y_us_score = gb_us.predict_proba(X_us_test)\n",
    "precision_us, recall_us, _ = precision_recall_curve(y_us_test, y_us_score[:,1])\n",
    "utils.drawPRCurves(((recall_us, precision_us, \"US\"),))"
   ]
  },
  {
   "cell_type": "code",
   "execution_count": null,
   "metadata": {
    "collapsed": true
   },
   "outputs": [],
   "source": []
  }
 ],
 "metadata": {
  "kernelspec": {
   "display_name": "Python 2",
   "language": "python",
   "name": "python2"
  },
  "language_info": {
   "codemirror_mode": {
    "name": "ipython",
    "version": 2
   },
   "file_extension": ".py",
   "mimetype": "text/x-python",
   "name": "python",
   "nbconvert_exporter": "python",
   "pygments_lexer": "ipython2",
   "version": "2.7.10"
  }
 },
 "nbformat": 4,
 "nbformat_minor": 0
}
