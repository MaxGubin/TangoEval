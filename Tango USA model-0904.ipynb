{
 "cells": [
  {
   "cell_type": "code",
   "execution_count": 1,
   "metadata": {
    "collapsed": false
   },
   "outputs": [
    {
     "data": {
      "text/plain": [
       "<module 'utils' from 'utils.pyc'>"
      ]
     },
     "execution_count": 1,
     "metadata": {},
     "output_type": "execute_result"
    }
   ],
   "source": [
    "%matplotlib inline\n",
    "import utils\n",
    "reload(utils)"
   ]
  },
  {
   "cell_type": "markdown",
   "metadata": {},
   "source": [
    "Loading data from us sample"
   ]
  },
  {
   "cell_type": "code",
   "execution_count": 2,
   "metadata": {
    "collapsed": false
   },
   "outputs": [
    {
     "name": "stdout",
     "output_type": "stream",
     "text": [
      "CPU times: user 33.4 s, sys: 2.13 s, total: 35.5 s\n",
      "Wall time: 43.7 s\n"
     ]
    }
   ],
   "source": [
    "\n",
    "%time X_us_train, X_us_test, y_us_train, y_us_test = utils.LoadDataset('data_0904/US', 0.33)\n"
   ]
  },
  {
   "cell_type": "markdown",
   "metadata": {},
   "source": [
    "Train random forest models"
   ]
  },
  {
   "cell_type": "code",
   "execution_count": 3,
   "metadata": {
    "collapsed": false
   },
   "outputs": [
    {
     "name": "stderr",
     "output_type": "stream",
     "text": [
      "[Parallel(n_jobs=4)]: Done   1 out of 100 | elapsed:   34.8s remaining: 57.5min\n",
      "[Parallel(n_jobs=4)]: Done 100 out of 100 | elapsed: 14.5min finished\n"
     ]
    },
    {
     "name": "stdout",
     "output_type": "stream",
     "text": [
      "CPU times: user 56min 1s, sys: 9.39 s, total: 56min 10s\n",
      "Wall time: 14min 28s\n"
     ]
    }
   ],
   "source": [
    "from sklearn.ensemble import RandomForestClassifier\n",
    "rndf_us = RandomForestClassifier(n_estimators=100, max_depth=None, random_state=0, n_jobs=4,verbose=1)\n",
    "%time rndf_us = rndf_us.fit(X_us_train, y_us_train)\n"
   ]
  },
  {
   "cell_type": "markdown",
   "metadata": {},
   "source": [
    "Evaluate classifiers"
   ]
  },
  {
   "cell_type": "code",
   "execution_count": 4,
   "metadata": {
    "collapsed": false
   },
   "outputs": [
    {
     "name": "stderr",
     "output_type": "stream",
     "text": [
      "[Parallel(n_jobs=4)]: Done   1 out of 100 | elapsed:    3.5s remaining:  5.8min\n",
      "[Parallel(n_jobs=4)]: Done 100 out of 100 | elapsed:  1.4min finished\n",
      "[Parallel(n_jobs=4)]: Done   1 out of 100 | elapsed:    3.3s remaining:  5.5min\n",
      "[Parallel(n_jobs=4)]: Done 100 out of 100 | elapsed:  1.4min finished\n"
     ]
    },
    {
     "name": "stdout",
     "output_type": "stream",
     "text": [
      " mean_precision:0.963275115567 roc_auc_score :0.634365231198\n"
     ]
    }
   ],
   "source": [
    "\n",
    "print  utils.classifierMetrics(rndf_us, X_us_test, y_us_test)\n"
   ]
  },
  {
   "cell_type": "code",
   "execution_count": 5,
   "metadata": {
    "collapsed": false
   },
   "outputs": [
    {
     "data": {
      "text/html": [
       "<table><tr><th>Feature</th><th>US</th></tr><tr><td>distance</td><td>0.396851934245</td></tr><tr><td>wink_daily</td><td>0.214472125062</td></tr><tr><td>picture_daily</td><td>0.073121899395</td></tr><tr><td>fav_ratio</td><td>0.0492012772184</td></tr><tr><td>update_profile_daily</td><td>0.0459410177806</td></tr><tr><td>beauty</td><td>0.0422072704722</td></tr><tr><td>age</td><td>0.0409650650052</td></tr><tr><td>bright</td><td>0.0331802824782</td></tr><tr><td>sharp</td><td>0.0261924852447</td></tr><tr><td>white</td><td>0.0162773751178</td></tr><tr><td>asian</td><td>0.0124721248452</td></tr><tr><td>same_locale</td><td>0.0121563260744</td></tr><tr><td>indian</td><td>0.01128805009</td></tr><tr><td>same_country</td><td>0.00606374684426</td></tr><tr><td>picture_30days</td><td>0.00571136224414</td></tr><tr><td>num_face</td><td>0.0055771744322</td></tr><tr><td>gender_um</td><td>0.00187905141781</td></tr><tr><td>gender_mm</td><td>0.00175154950239</td></tr><tr><td>gender_mu</td><td>0.00123376787925</td></tr><tr><td>gender_uu</td><td>0.00104173394713</td></tr><tr><td>gender_m</td><td>0.000816675540256</td></tr><tr><td>gender_u</td><td>0.000802338702161</td></tr><tr><td>gender_mf</td><td>0.000216240451279</td></tr><tr><td>gender_fm</td><td>0.000132952212323</td></tr><tr><td>gender_uf</td><td>0.000208891107067</td></tr><tr><td>gender_f</td><td>0.000169459633448</td></tr><tr><td>gender_ff</td><td>8.74781052504e-08</td></tr><tr><td>gender_fu</td><td>6.77355798491e-05</td></tr></table>"
      ],
      "text/plain": [
       "[('distance', 0.39685193424501086),\n",
       " ('wink_daily', 0.21447212506168958),\n",
       " ('picture_daily', 0.073121899394989767),\n",
       " ('fav_ratio', 0.049201277218425217),\n",
       " ('update_profile_daily', 0.045941017780611978),\n",
       " ('beauty', 0.042207270472168774),\n",
       " ('age', 0.040965065005218119),\n",
       " ('bright', 0.033180282478162647),\n",
       " ('sharp', 0.026192485244713043),\n",
       " ('white', 0.016277375117817176),\n",
       " ('asian', 0.012472124845154101),\n",
       " ('same_locale', 0.012156326074356771),\n",
       " ('indian', 0.011288050090029289),\n",
       " ('same_country', 0.0060637468442554712),\n",
       " ('picture_30days', 0.005711362244136561),\n",
       " ('num_face', 0.0055771744322041092),\n",
       " ('gender_um', 0.0018790514178087269),\n",
       " ('gender_mm', 0.0017515495023888202),\n",
       " ('gender_mu', 0.0012337678792454182),\n",
       " ('gender_uu', 0.0010417339471264463),\n",
       " ('gender_m', 0.00081667554025552326),\n",
       " ('gender_u', 0.0008023387021610372),\n",
       " ('gender_mf', 0.00021624045127904078),\n",
       " ('gender_fm', 0.00013295221232280331),\n",
       " ('gender_uf', 0.00020889110706651947),\n",
       " ('gender_f', 0.00016945963344794303),\n",
       " ('gender_ff', 8.7478105250415611e-08),\n",
       " ('gender_fu', 6.7735579849091297e-05)]"
      ]
     },
     "execution_count": 5,
     "metadata": {},
     "output_type": "execute_result"
    }
   ],
   "source": [
    "feature_names=[\"same_country\",\"same_locale\",\"gender_mm\",\"gender_mf\",\"gender_mu\",\"gender_fm\",\"gender_ff\",\"gender_fu\",\n",
    "               \"gender_um\",\"gender_uf\",\"gender_uu\",\"gender_m\",\"gender_f\",\"gender_u\",\"picture_daily\",\"update_profile_daily\",\n",
    "               \"wink_daily\",\"picture_30days\",\"num_face\",\"age\",\"beauty\",\"bright\",\"sharp\",\"white\",\"indian\",\"asian\",\"distance\",\n",
    "               \"fav_ratio\"]\n",
    "ftrs = [(n, s1) for (n, s1) in zip(feature_names, rndf_us.feature_importances_)]\n",
    "ftrs.sort(lambda x1, x2: int(10000.0*(x2[1]-x1[1])))\n",
    "utils.ListTable(ftrs).SetHeaders((\"Feature\", \"US\"))"
   ]
  },
  {
   "cell_type": "markdown",
   "metadata": {},
   "source": [
    "Precision Recall curves"
   ]
  },
  {
   "cell_type": "code",
   "execution_count": 6,
   "metadata": {
    "collapsed": false
   },
   "outputs": [
    {
     "name": "stderr",
     "output_type": "stream",
     "text": [
      "[Parallel(n_jobs=4)]: Done   1 out of 100 | elapsed:    3.4s remaining:  5.5min\n",
      "[Parallel(n_jobs=4)]: Done 100 out of 100 | elapsed:  1.4min finished\n"
     ]
    },
    {
     "data": {
      "image/png": "[encoded data removed]",
      "text/plain": [
       "<matplotlib.figure.Figure at 0x7f70ac24c850>"
      ]
     },
     "metadata": {},
     "output_type": "display_data"
    }
   ],
   "source": [
    "from sklearn.metrics import precision_recall_curve\n",
    "y_us_score = rndf_us.predict_proba(X_us_test)\n",
    "precision_us, recall_us, _ = precision_recall_curve(y_us_test, y_us_score[:,1])\n",
    "utils.drawPRCurves(((recall_us, precision_us, \"US\"),))"
   ]
  },
  {
   "cell_type": "markdown",
   "metadata": {},
   "source": [
    "Logistic Regression"
   ]
  },
  {
   "cell_type": "code",
   "execution_count": 7,
   "metadata": {
    "collapsed": false
   },
   "outputs": [
    {
     "name": "stdout",
     "output_type": "stream",
     "text": [
      "CPU times: user 2min, sys: 1.09 s, total: 2min 1s\n",
      "Wall time: 2min 1s\n",
      "US  mean_precision:0.967107861656 roc_auc_score :0.638885022108\n"
     ]
    }
   ],
   "source": [
    "from sklearn.linear_model import LogisticRegression\n",
    "lr_us = LogisticRegression(penalty='l2')\n",
    "%time lr_us= lr_us.fit(X_us_train, y_us_train)\n",
    "print \"US\", utils.classifierMetrics(lr_us, X_us_test, y_us_test)\n"
   ]
  },
  {
   "cell_type": "code",
   "execution_count": 8,
   "metadata": {
    "collapsed": false,
    "scrolled": false
   },
   "outputs": [
    {
     "data": {
      "text/html": [
       "<table><tr><th>Feature</th><th>US</th></tr><tr><td>distance</td><td>2.51427569185</td></tr><tr><td>beauty</td><td>0.443361841841</td></tr><tr><td>gender_u</td><td>0.350828441401</td></tr><tr><td>same_locale</td><td>0.199664824872</td></tr><tr><td>picture_30days</td><td>0.188163993092</td></tr><tr><td>gender_m</td><td>0.122416584023</td></tr><tr><td>gender_fm</td><td>0.052159138732</td></tr><tr><td>gender_fu</td><td>0.0280408763881</td></tr><tr><td>bright</td><td>0.0149980398603</td></tr><tr><td>wink_daily</td><td>0.00690321304491</td></tr><tr><td>update_profile_daily</td><td>0.000972245882404</td></tr><tr><td>gender_ff</td><td>-0.000965678272425</td></tr><tr><td>picture_daily</td><td>-0.00150583399484</td></tr><tr><td>num_face</td><td>-0.00303994870825</td></tr><tr><td>sharp</td><td>-0.00550301631041</td></tr><tr><td>age</td><td>-0.00593399993374</td></tr><tr><td>gender_uf</td><td>-0.0888317071015</td></tr><tr><td>gender_uu</td><td>-0.100422717442</td></tr><tr><td>asian</td><td>-0.103509323774</td></tr><tr><td>white</td><td>-0.128619448647</td></tr><tr><td>fav_ratio</td><td>-0.199097950515</td></tr><tr><td>gender_um</td><td>-0.199696533632</td></tr><tr><td>indian</td><td>-0.210145125728</td></tr><tr><td>same_country</td><td>-0.269704999067</td></tr><tr><td>gender_mf</td><td>-0.296990638992</td></tr><tr><td>gender_f</td><td>-0.308301903863</td></tr><tr><td>gender_mu</td><td>-0.519666535018</td></tr><tr><td>gender_mm</td><td>-0.564780233866</td></tr></table>"
      ],
      "text/plain": [
       "[('distance', 2.5142756918461036),\n",
       " ('beauty', 0.44336184184085714),\n",
       " ('gender_u', 0.35082844140050939),\n",
       " ('same_locale', 0.19966482487217299),\n",
       " ('picture_30days', 0.18816399309203641),\n",
       " ('gender_m', 0.12241658402294948),\n",
       " ('gender_fm', 0.052159138731951729),\n",
       " ('gender_fu', 0.028040876388139714),\n",
       " ('bright', 0.014998039860272845),\n",
       " ('wink_daily', 0.0069032130449128513),\n",
       " ('update_profile_daily', 0.00097224588240353007),\n",
       " ('gender_ff', -0.00096567827242537575),\n",
       " ('picture_daily', -0.0015058339948350336),\n",
       " ('num_face', -0.0030399487082497798),\n",
       " ('sharp', -0.0055030163104094511),\n",
       " ('age', -0.0059339999337375783),\n",
       " ('gender_uf', -0.088831707101544588),\n",
       " ('gender_uu', -0.1004227174418401),\n",
       " ('asian', -0.1035093237740394),\n",
       " ('white', -0.12861944864700794),\n",
       " ('fav_ratio', -0.19909795051503046),\n",
       " ('gender_um', -0.19969653363226006),\n",
       " ('indian', -0.21014512572803123),\n",
       " ('same_country', -0.26970499906667045),\n",
       " ('gender_mf', -0.29699063899206735),\n",
       " ('gender_f', -0.30830190386314016),\n",
       " ('gender_mu', -0.51966653501798421),\n",
       " ('gender_mm', -0.5647802338659631)]"
      ]
     },
     "execution_count": 8,
     "metadata": {},
     "output_type": "execute_result"
    }
   ],
   "source": [
    "lr_us.coef_[0,:]\n",
    "ftrs = [(n, s1) for (n, s1) in zip(feature_names, lr_us.coef_[0,:])]\n",
    "ftrs.sort(lambda x1, x2: int(10000.0*(x2[1]-x1[1])))\n",
    "utils.ListTable(ftrs).SetHeaders((\"Feature\", \"US\"))"
   ]
  },
  {
   "cell_type": "markdown",
   "metadata": {},
   "source": [
    "GB Classifier"
   ]
  },
  {
   "cell_type": "code",
   "execution_count": 9,
   "metadata": {
    "collapsed": false
   },
   "outputs": [
    {
     "name": "stdout",
     "output_type": "stream",
     "text": [
      "      Iter       Train Loss   Remaining Time \n",
      "         1           0.2867           75.19m\n",
      "         2           0.2852           59.93m\n",
      "         3           0.2841           54.64m\n",
      "         4           0.2830           51.74m\n",
      "         5           0.2822           49.63m\n",
      "         6           0.2815           48.22m\n",
      "         7           0.2809           47.13m\n",
      "         8           0.2804           45.98m\n",
      "         9           0.2799           45.10m\n",
      "        10           0.2795           44.22m\n",
      "        20           0.2774           37.32m\n",
      "        30           0.2765           31.74m\n",
      "        40           0.2760           26.86m\n",
      "        50           0.2757           22.13m\n",
      "        60           0.2754           17.52m\n",
      "        70           0.2752           12.99m\n",
      "        80           0.2751            8.51m\n",
      "        90           0.2750            4.19m\n",
      "       100           0.2749            0.00s\n",
      "CPU times: user 41min 17s, sys: 464 ms, total: 41min 18s\n",
      "Wall time: 41min 20s\n"
     ]
    }
   ],
   "source": [
    "from sklearn.ensemble import GradientBoostingClassifier\n",
    "gb_us = GradientBoostingClassifier(verbose=1)\n",
    "%time gb_us= gb_us.fit(X_us_train, y_us_train)\n"
   ]
  },
  {
   "cell_type": "code",
   "execution_count": 10,
   "metadata": {
    "collapsed": false
   },
   "outputs": [
    {
     "name": "stdout",
     "output_type": "stream",
     "text": [
      "US  mean_precision:0.967108302227 roc_auc_score :0.682830227539\n"
     ]
    }
   ],
   "source": [
    "print \"US\", utils.classifierMetrics(gb_us, X_us_test, y_us_test)\n"
   ]
  },
  {
   "cell_type": "code",
   "execution_count": 11,
   "metadata": {
    "collapsed": false
   },
   "outputs": [
    {
     "data": {
      "text/html": [
       "<table><tr><th>Feature</th><th>US</th></tr><tr><td>distance</td><td>0.247421339032</td></tr><tr><td>wink_daily</td><td>0.179447695431</td></tr><tr><td>beauty</td><td>0.0834076801412</td></tr><tr><td>age</td><td>0.0825056332956</td></tr><tr><td>gender_mm</td><td>0.058589230975</td></tr><tr><td>gender_uu</td><td>0.0454672321811</td></tr><tr><td>same_locale</td><td>0.0432531544616</td></tr><tr><td>gender_mu</td><td>0.0358874172888</td></tr><tr><td>update_profile_daily</td><td>0.0342440148483</td></tr><tr><td>fav_ratio</td><td>0.0320458188261</td></tr><tr><td>picture_daily</td><td>0.0297706982647</td></tr><tr><td>gender_um</td><td>0.0287685559095</td></tr><tr><td>same_country</td><td>0.0262086238096</td></tr><tr><td>sharp</td><td>0.0223868098217</td></tr><tr><td>asian</td><td>0.0137132284032</td></tr><tr><td>gender_mf</td><td>0.0115679153422</td></tr><tr><td>white</td><td>0.00749679083806</td></tr><tr><td>indian</td><td>0.00694645084341</td></tr><tr><td>bright</td><td>0.00442277865972</td></tr><tr><td>gender_u</td><td>0.00274072038449</td></tr><tr><td>gender_f</td><td>0.0022006630418</td></tr><tr><td>num_face</td><td>0.00119393855247</td></tr><tr><td>gender_m</td><td>0.000313609648135</td></tr><tr><td>gender_fm</td><td>0.0</td></tr><tr><td>gender_ff</td><td>0.0</td></tr><tr><td>gender_fu</td><td>0.0</td></tr><tr><td>gender_uf</td><td>0.0</td></tr><tr><td>picture_30days</td><td>0.0</td></tr></table>"
      ],
      "text/plain": [
       "[('distance', 0.24742133903219116),\n",
       " ('wink_daily', 0.17944769543122063),\n",
       " ('beauty', 0.083407680141191043),\n",
       " ('age', 0.082505633295642422),\n",
       " ('gender_mm', 0.05858923097495973),\n",
       " ('gender_uu', 0.045467232181100152),\n",
       " ('same_locale', 0.043253154461597887),\n",
       " ('gender_mu', 0.035887417288805443),\n",
       " ('update_profile_daily', 0.034244014848285861),\n",
       " ('fav_ratio', 0.032045818826088507),\n",
       " ('picture_daily', 0.029770698264723158),\n",
       " ('gender_um', 0.028768555909502457),\n",
       " ('same_country', 0.026208623809588216),\n",
       " ('sharp', 0.02238680982167239),\n",
       " ('asian', 0.013713228403179217),\n",
       " ('gender_mf', 0.011567915342170523),\n",
       " ('white', 0.0074967908380557469),\n",
       " ('indian', 0.0069464508434096319),\n",
       " ('bright', 0.0044227786597189787),\n",
       " ('gender_u', 0.0027407203844880563),\n",
       " ('gender_f', 0.002200663041800869),\n",
       " ('num_face', 0.001193938552472715),\n",
       " ('gender_m', 0.0003136096481351513),\n",
       " ('gender_fm', 0.0),\n",
       " ('gender_ff', 0.0),\n",
       " ('gender_fu', 0.0),\n",
       " ('gender_uf', 0.0),\n",
       " ('picture_30days', 0.0)]"
      ]
     },
     "execution_count": 11,
     "metadata": {},
     "output_type": "execute_result"
    }
   ],
   "source": [
    "ftrs = [(n, s1) for (n, s1) in zip(feature_names, gb_us.feature_importances_)]\n",
    "ftrs.sort(lambda x1, x2: int(10000.0*(x2[1]-x1[1])))\n",
    "utils.ListTable(ftrs).SetHeaders((\"Feature\", \"US\"))"
   ]
  },
  {
   "cell_type": "code",
   "execution_count": 12,
   "metadata": {
    "collapsed": false
   },
   "outputs": [
    {
     "data": {
      "image/png": "[encoded data removed]",
      "text/plain": [
       "<matplotlib.figure.Figure at 0x7f7082719750>"
      ]
     },
     "metadata": {},
     "output_type": "display_data"
    }
   ],
   "source": [
    "y_us_score = gb_us.predict_proba(X_us_test)\n",
    "precision_us, recall_us, _ = precision_recall_curve(y_us_test, y_us_score[:,1])\n",
    "utils.drawPRCurves(((recall_us, precision_us, \"US\"),))"
   ]
  },
  {
   "cell_type": "code",
   "execution_count": null,
   "metadata": {
    "collapsed": true
   },
   "outputs": [],
   "source": []
  }
 ],
 "metadata": {
  "kernelspec": {
   "display_name": "Python 2",
   "language": "python",
   "name": "python2"
  },
  "language_info": {
   "codemirror_mode": {
    "name": "ipython",
    "version": 2
   },
   "file_extension": ".py",
   "mimetype": "text/x-python",
   "name": "python",
   "nbconvert_exporter": "python",
   "pygments_lexer": "ipython2",
   "version": "2.7.10"
  }
 },
 "nbformat": 4,
 "nbformat_minor": 0
}
