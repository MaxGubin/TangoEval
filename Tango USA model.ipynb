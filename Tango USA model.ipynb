{
 "cells": [
  {
   "cell_type": "code",
   "execution_count": 53,
   "metadata": {
    "collapsed": false
   },
   "outputs": [
    {
     "data": {
      "text/plain": [
       "<module 'utils' from 'utils.py'>"
      ]
     },
     "execution_count": 53,
     "metadata": {},
     "output_type": "execute_result"
    }
   ],
   "source": [
    "%matplotlib inline\n",
    "import utils\n",
    "reload(utils)"
   ]
  },
  {
   "cell_type": "markdown",
   "metadata": {},
   "source": [
    "Loading data from us sample"
   ]
  },
  {
   "cell_type": "code",
   "execution_count": 7,
   "metadata": {
    "collapsed": false
   },
   "outputs": [
    {
     "name": "stdout",
     "output_type": "stream",
     "text": [
      "CPU times: user 7.54 s, sys: 1.54 s, total: 9.08 s\n",
      "Wall time: 9.09 s\n",
      "CPU times: user 11.5 s, sys: 4.09 s, total: 15.6 s\n",
      "Wall time: 17.7 s\n"
     ]
    }
   ],
   "source": [
    "\n",
    "%time X_us_train, X_us_test, y_us_train, y_us_test = utils.LoadDataset('data_0901/data20to26/US', 0.33)\n",
    "%time X_iran_train, X_iran_test, y_iran_train, y_iran_test = utils.LoadDataset('data_0901/data20to26/Iran', 0.33)"
   ]
  },
  {
   "cell_type": "markdown",
   "metadata": {},
   "source": [
    "Train random forest models"
   ]
  },
  {
   "cell_type": "code",
   "execution_count": 8,
   "metadata": {
    "collapsed": false
   },
   "outputs": [
    {
     "name": "stdout",
     "output_type": "stream",
     "text": [
      "CPU times: user 2min 39s, sys: 908 ms, total: 2min 40s\n",
      "Wall time: 2min 40s\n",
      "CPU times: user 6min 50s, sys: 1.16 s, total: 6min 51s\n",
      "Wall time: 6min 52s\n"
     ]
    }
   ],
   "source": [
    "from sklearn.ensemble import RandomForestClassifier\n",
    "rndf_us = RandomForestClassifier(n_estimators=30, max_depth=None,min_samples_split=10, random_state=0)\n",
    "%time rndf_us = rndf_us.fit(X_us_train, y_us_train)\n",
    "rndf_iran = RandomForestClassifier(n_estimators=30, max_depth=None,min_samples_split=10, random_state=0)\n",
    "%time rndf_iran = rndf_iran.fit(X_iran_train, y_iran_train)"
   ]
  },
  {
   "cell_type": "markdown",
   "metadata": {},
   "source": [
    "Evaluate classifiers"
   ]
  },
  {
   "cell_type": "code",
   "execution_count": 56,
   "metadata": {
    "collapsed": false
   },
   "outputs": [
    {
     "name": "stdout",
     "output_type": "stream",
     "text": [
      "Us on US  mean_precision:0.64323310447 roc_auc_score :0.651091667659 Iran on US  mean_precision:0.586462688952 roc_auc_score :0.61103437529\n",
      "Iran on Iran  mean_precision:0.625071690412 roc_auc_score :0.661160272878 US on Iran  mean_precision:0.625071690412 roc_auc_score :0.661160272878\n"
     ]
    }
   ],
   "source": [
    "\n",
    "print \"Us on US\", utils.classifierMetrics(rndf_us, X_us_test, y_us_test), \"Iran on US\", utils.classifierMetrics(rndf_us, X_iran_test, y_iran_test)\n",
    "print \"Iran on Iran\", utils.classifierMetrics(rndf_iran, X_iran_test, y_iran_test), \"US on Iran\",utils.classifierMetrics(rndf_iran, X_iran_test, y_iran_test)\n"
   ]
  },
  {
   "cell_type": "code",
   "execution_count": 21,
   "metadata": {
    "collapsed": false
   },
   "outputs": [
    {
     "data": {
      "text/html": [
       "<table><tr><th>Feature</th><th>US</th><th>Iran</th></tr><tr><td>picture_30days</td><td>0.201930043533</td><td>0.237854163252</td></tr><tr><td>fav_ratio</td><td>0.199992267451</td><td>0.241582293873</td></tr><tr><td>update_profile_daily</td><td>0.0954007149414</td><td>0.115239168815</td></tr><tr><td>beauty</td><td>0.068056166397</td><td>0.0451558980199</td></tr><tr><td>bright</td><td>0.0675870254709</td><td>0.0430825484711</td></tr><tr><td>wink_daily</td><td>0.0669476222313</td><td>0.0784726964646</td></tr><tr><td>sharp</td><td>0.0534149596199</td><td>0.0336258201058</td></tr><tr><td>white</td><td>0.0416683152494</td><td>0.0276792801846</td></tr><tr><td>indian</td><td>0.0281426825517</td><td>0.0205560478724</td></tr><tr><td>distance</td><td>0.0214209021005</td><td>0.00921413576805</td></tr><tr><td>asian</td><td>0.0196113223957</td><td>0.0183604871991</td></tr><tr><td>same_locale</td><td>0.0102193410378</td><td>0.0117178135688</td></tr><tr><td>same_country</td><td>0.00963680013214</td><td>0.00829537051181</td></tr><tr><td>num_face</td><td>0.00905573170179</td><td>0.00658825453137</td></tr><tr><td>age</td><td>0.00911994321413</td><td>0.00548909134852</td></tr><tr><td>gender_uu</td><td>0.00668309707665</td><td>0.00582590398566</td></tr><tr><td>gender_mu</td><td>0.00576556619526</td><td>0.00565782237345</td></tr><tr><td>gender_f</td><td>0.00566031154396</td><td>0.0113287501834</td></tr><tr><td>gender_u</td><td>0.00523769911054</td><td>0.00580401889674</td></tr><tr><td>picture_daily</td><td>0.00389609815201</td><td>0.00319771954448</td></tr><tr><td>gender_fm</td><td>0.0031992292673</td><td>0.00374188009862</td></tr><tr><td>gender_m</td><td>0.00311211201898</td><td>0.00372500720655</td></tr><tr><td>gender_mm,gender_mf</td><td>0.00286355457631</td><td>0.00255204329552</td></tr><tr><td>gender_fu</td><td>0.00178473090968</td><td>0.00240594264796</td></tr><tr><td>gender_uf</td><td>0.00146450994937</td><td>0.00245894633017</td></tr><tr><td>gender_ff</td><td>0.00117785961977</td><td>0.000484470814842</td></tr><tr><td>gender_um</td><td>0.00124390057587</td><td>0.00170153251891</td></tr></table>"
      ],
      "text/plain": [
       "[('picture_30days', 0.20193004353330826, 0.23785416325192701),\n",
       " ('fav_ratio', 0.19999226745073256, 0.24158229387291077),\n",
       " ('update_profile_daily', 0.095400714941430681, 0.11523916881484313),\n",
       " ('beauty', 0.068056166397031562, 0.045155898019945323),\n",
       " ('bright', 0.067587025470939435, 0.043082548471092962),\n",
       " ('wink_daily', 0.066947622231335865, 0.078472696464608221),\n",
       " ('sharp', 0.053414959619927788, 0.033625820105780059),\n",
       " ('white', 0.041668315249433797, 0.027679280184637705),\n",
       " ('indian', 0.02814268255168869, 0.020556047872389741),\n",
       " ('distance', 0.021420902100460489, 0.0092141357680518496),\n",
       " ('asian', 0.019611322395729325, 0.018360487199128812),\n",
       " ('same_locale', 0.010219341037788215, 0.011717813568810111),\n",
       " ('same_country', 0.0096368001321395814, 0.0082953705118088642),\n",
       " ('num_face', 0.0090557317017866332, 0.0065882545313667848),\n",
       " ('age', 0.0091199432141332373, 0.0054890913485165817),\n",
       " ('gender_uu', 0.0066830970766493516, 0.0058259039856613419),\n",
       " ('gender_mu', 0.0057655661952571982, 0.0056578223734484205),\n",
       " ('gender_f', 0.005660311543958285, 0.011328750183404648),\n",
       " ('gender_u', 0.0052376991105400799, 0.0058040188967432571),\n",
       " ('picture_daily', 0.0038960981520063192, 0.0031977195444789826),\n",
       " ('gender_fm', 0.0031992292672968093, 0.0037418800986191237),\n",
       " ('gender_m', 0.0031121120189781092, 0.0037250072065491404),\n",
       " ('gender_mm,gender_mf', 0.0028635545763138473, 0.0025520432955221427),\n",
       " ('gender_fu', 0.0017847309096849428, 0.0024059426479595084),\n",
       " ('gender_uf', 0.0014645099493717552, 0.0024589463301690952),\n",
       " ('gender_ff', 0.0011778596197706173, 0.00048447081484231751),\n",
       " ('gender_um', 0.0012439005758748186, 0.0017015325189085621)]"
      ]
     },
     "execution_count": 21,
     "metadata": {},
     "output_type": "execute_result"
    }
   ],
   "source": [
    "feature_names=[\"same_country\",\"same_locale\",\"gender_mm,gender_mf\",\"gender_mu\",\"gender_fm\",\"gender_ff\",\"gender_fu\",\n",
    "               \"gender_um\",\"gender_uf\",\"gender_uu\",\"gender_m\",\"gender_f\",\"gender_u\",\"picture_daily\",\"update_profile_daily\",\n",
    "               \"wink_daily\",\"picture_30days\",\"num_face\",\"age\",\"beauty\",\"bright\",\"sharp\",\"white\",\"indian\",\"asian\",\"distance\",\n",
    "               \"fav_ratio\"]\n",
    "ftrs = [(n, s1, s2) for (n, s1, s2) in zip(feature_names, rndf_us.feature_importances_, rndf_iran.feature_importances_)]\n",
    "ftrs.sort(lambda x1, x2: int(10000.0*(x2[1]-x1[1])))\n",
    "utils.ListTable(ftrs).SetHeaders((\"Feature\", \"US\", \"Iran\"))"
   ]
  },
  {
   "cell_type": "markdown",
   "metadata": {},
   "source": [
    "Precision Recall curves"
   ]
  },
  {
   "cell_type": "code",
   "execution_count": 26,
   "metadata": {
    "collapsed": false
   },
   "outputs": [
    {
     "data": {
      "image/png": "[encoded data removed]",
      "text/plain": [
       "<matplotlib.figure.Figure at 0x7f58eae55750>"
      ]
     },
     "metadata": {},
     "output_type": "display_data"
    }
   ],
   "source": [
    "from sklearn.metrics import precision_recall_curve\n",
    "y_us_score = rndf_us.predict_proba(X_us_test)\n",
    "precision_us, recall_us, _ = precision_recall_curve(y_us_test, y_us_score[:,1])\n",
    "y_iran_score = rndf_us.predict_proba(X_iran_test)\n",
    "precision_iran, recall_iran, _ = precision_recall_curve(y_iran_test, y_iran_score[:,1])\n",
    "utils.drawPRCurves(((recall_us, precision_us, \"US\"),(recall_iran, precision_iran, \"Iran\")))"
   ]
  },
  {
   "cell_type": "markdown",
   "metadata": {},
   "source": [
    "Logistic Regression"
   ]
  },
  {
   "cell_type": "code",
   "execution_count": 57,
   "metadata": {
    "collapsed": false
   },
   "outputs": [
    {
     "name": "stdout",
     "output_type": "stream",
     "text": [
      "CPU times: user 18.3 s, sys: 0 ns, total: 18.3 s\n",
      "Wall time: 18.3 s\n",
      "US  mean_precision:0.621494980838 roc_auc_score :0.583819218902\n",
      "CPU times: user 34.2 s, sys: 20 ms, total: 34.2 s\n",
      "Wall time: 34.3 s\n",
      "Iran  mean_precision:0.575726302025 roc_auc_score :0.594774447859\n"
     ]
    }
   ],
   "source": [
    "from sklearn.linear_model import LogisticRegression\n",
    "lr_us = LogisticRegression(penalty='l2')\n",
    "%time lr_us= lr_us.fit(X_us_train, y_us_train)\n",
    "print \"US\", utils.classifierMetrics(lr_us, X_us_test, y_us_test)\n",
    "lr_iran = LogisticRegression(penalty='l2')\n",
    "%time lr_iran= lr_iran.fit(X_iran_train, y_iran_train)\n",
    "print \"Iran\", utils.classifierMetrics(lr_iran, X_iran_test, y_iran_test)"
   ]
  },
  {
   "cell_type": "code",
   "execution_count": 40,
   "metadata": {
    "collapsed": false,
    "scrolled": true
   },
   "outputs": [
    {
     "data": {
      "text/html": [
       "<table><tr><th>Feature</th><th>US</th><th>Iran</th></tr><tr><td>fav_ratio</td><td>1.44463000029</td><td>0.874731411073</td></tr><tr><td>gender_ff</td><td>0.541891554621</td><td>0.186453512939</td></tr><tr><td>bright</td><td>0.411450454996</td><td>0.394095351131</td></tr><tr><td>gender_uf</td><td>0.245155074601</td><td>-0.20024832963</td></tr><tr><td>num_face</td><td>0.147820635923</td><td>0.0848038899369</td></tr><tr><td>same_locale</td><td>0.0761271342531</td><td>-0.0680560592796</td></tr><tr><td>gender_u</td><td>0.0345773235963</td><td>0.104418829241</td></tr><tr><td>sharp</td><td>0.0247681330387</td><td>-0.405806003273</td></tr><tr><td>same_country</td><td>0.0216413776541</td><td>0.339399701704</td></tr><tr><td>picture_daily</td><td>0.021286343026</td><td>0.111744465342</td></tr><tr><td>wink_daily</td><td>0.00320828453755</td><td>0.00479183105413</td></tr><tr><td>picture_30days</td><td>0.00119993842879</td><td>0.0011350640409</td></tr><tr><td>update_profile_daily</td><td>-0.00241813586136</td><td>-0.00105281899076</td></tr><tr><td>gender_m</td><td>-0.00291970378308</td><td>-0.279288703341</td></tr><tr><td>beauty</td><td>-0.00331341457414</td><td>0.00298606462772</td></tr><tr><td>white</td><td>-0.00338232293533</td><td>0.00635228780463</td></tr><tr><td>age</td><td>-0.0245864026667</td><td>-0.0390584025186</td></tr><tr><td>gender_fm</td><td>-0.0678842255896</td><td>-0.277027351333</td></tr><tr><td>gender_fu</td><td>-0.0894571182505</td><td>-0.242352100999</td></tr><tr><td>gender_uu</td><td>-0.0931400267437</td><td>-0.26413997374</td></tr><tr><td>distance</td><td>-0.113041698163</td><td>-0.119071201221</td></tr><tr><td>gender_um</td><td>-0.118946233498</td><td>-0.280070743647</td></tr><tr><td>indian</td><td>-0.124869259488</td><td>-0.138740800887</td></tr><tr><td>gender_mu</td><td>-0.155674576589</td><td>-0.297895369933</td></tr><tr><td>asian</td><td>-0.157081532718</td><td>-0.0087574923106</td></tr><tr><td>gender_mm,gender_mf</td><td>-0.476133606658</td><td>-0.281406027761</td></tr><tr><td>gender_f</td><td>-0.609993682598</td><td>-0.797402019781</td></tr></table>"
      ],
      "text/plain": [
       "[('fav_ratio', 1.4446300002913783, 0.87473141107268371),\n",
       " ('gender_ff', 0.5418915546213231, 0.18645351293859747),\n",
       " ('bright', 0.41145045499561, 0.39409535113078897),\n",
       " ('gender_uf', 0.24515507460126432, -0.20024832962974537),\n",
       " ('num_face', 0.14782063592268738, 0.084803889936880483),\n",
       " ('same_locale', 0.076127134253082429, -0.068056059279559059),\n",
       " ('gender_u', 0.034577323596325434, 0.10441882924130161),\n",
       " ('sharp', 0.024768133038704544, -0.40580600327280569),\n",
       " ('same_country', 0.02164137765412379, 0.33939970170408446),\n",
       " ('picture_daily', 0.021286343025966339, 0.11174446534160053),\n",
       " ('wink_daily', 0.0032082845375494573, 0.0047918310541301577),\n",
       " ('picture_30days', 0.0011999384287893675, 0.0011350640409006445),\n",
       " ('update_profile_daily', -0.0024181358613635721, -0.0010528189907624975),\n",
       " ('gender_m', -0.0029197037830815415, -0.27928870334125938),\n",
       " ('beauty', -0.0033134145741420024, 0.0029860646277248661),\n",
       " ('white', -0.0033823229353345833, 0.006352287804626139),\n",
       " ('age', -0.024586402666663284, -0.039058402518579512),\n",
       " ('gender_fm', -0.067884225589618014, -0.27702735133330503),\n",
       " ('gender_fu', -0.089457118250523132, -0.24235210099914239),\n",
       " ('gender_uu', -0.093140026743673443, -0.26413997374034043),\n",
       " ('distance', -0.11304169816291883, -0.11907120122137356),\n",
       " ('gender_um', -0.11894623349836136, -0.28007074364727214),\n",
       " ('indian', -0.12486925948758248, -0.13874080088652332),\n",
       " ('gender_mu', -0.15567457658922002, -0.29789536993348881),\n",
       " ('asian', -0.15708153271833855, -0.0087574923106040568),\n",
       " ('gender_mm,gender_mf', -0.47613360665833876, -0.28140602776100748),\n",
       " ('gender_f', -0.60999368259777853, -0.79740201978100012)]"
      ]
     },
     "execution_count": 40,
     "metadata": {},
     "output_type": "execute_result"
    }
   ],
   "source": [
    "lr_us.coef_[0,:]\n",
    "ftrs = [(n, s1, s2) for (n, s1, s2) in zip(feature_names, lr_us.coef_[0,:], lr_iran.coef_[0,:])]\n",
    "ftrs.sort(lambda x1, x2: int(10000.0*(x2[1]-x1[1])))\n",
    "utils.ListTable(ftrs).SetHeaders((\"Feature\", \"US\", \"Iran\"))"
   ]
  },
  {
   "cell_type": "markdown",
   "metadata": {},
   "source": [
    "GB Classifier"
   ]
  },
  {
   "cell_type": "code",
   "execution_count": null,
   "metadata": {
    "collapsed": true
   },
   "outputs": [],
   "source": [
    "from sklearn.ensemble import GradientBoostingClassifier\n",
    "gb_us = GradientBoostingClassifier()\n",
    "%time gb_us= gb_us.fit(X_us_train, y_us_train)\n",
    "gb_iran = GradientBoostingClassifier()\n",
    "%time gr_iran= gb_iran.fit(X_iran_train, y_iran_train)"
   ]
  },
  {
   "cell_type": "code",
   "execution_count": 59,
   "metadata": {
    "collapsed": false
   },
   "outputs": [
    {
     "name": "stdout",
     "output_type": "stream",
     "text": [
      "US  mean_precision:0.63423218979 roc_auc_score :0.636973181579\n",
      "Iran  mean_precision:0.617128045443 roc_auc_score :0.654101481473\n"
     ]
    }
   ],
   "source": [
    "print \"US\", utils.classifierMetrics(gb_us, X_us_test, y_us_test)\n",
    "print \"Iran\", utils.classifierMetrics(gb_iran, X_iran_test, y_iran_test)"
   ]
  },
  {
   "cell_type": "code",
   "execution_count": 43,
   "metadata": {
    "collapsed": false
   },
   "outputs": [
    {
     "data": {
      "text/html": [
       "<table><tr><th>Feature</th><th>US</th><th>Iran</th></tr><tr><td>picture_30days</td><td>0.219050143378</td><td>0.253608956017</td></tr><tr><td>fav_ratio</td><td>0.173189328563</td><td>0.18358176008</td></tr><tr><td>bright</td><td>0.100346085671</td><td>0.084890865389</td></tr><tr><td>beauty</td><td>0.098175137295</td><td>0.112697113769</td></tr><tr><td>white</td><td>0.0444810255</td><td>0.0332952666386</td></tr><tr><td>same_locale</td><td>0.0409434592805</td><td>0.00295084559298</td></tr><tr><td>update_profile_daily</td><td>0.0323355996917</td><td>0.0428291113021</td></tr><tr><td>gender_f</td><td>0.0291021287271</td><td>0.0313271384771</td></tr><tr><td>gender_ff</td><td>0.025841051288</td><td>0.00513157641299</td></tr><tr><td>wink_daily</td><td>0.0239768731311</td><td>0.0436384577863</td></tr><tr><td>gender_mm,gender_mf</td><td>0.021863374413</td><td>0.011756928087</td></tr><tr><td>gender_mu</td><td>0.0181047449771</td><td>0.00819881964813</td></tr><tr><td>distance</td><td>0.0163943915552</td><td>0.0126357233686</td></tr><tr><td>same_country</td><td>0.0150654719658</td><td>0.024236346988</td></tr><tr><td>age</td><td>0.0151204704524</td><td>0.000369742190426</td></tr><tr><td>gender_m</td><td>0.0134842449793</td><td>0.0</td></tr><tr><td>picture_daily</td><td>0.013193977674</td><td>0.0291482836443</td></tr><tr><td>indian</td><td>0.0113315280552</td><td>0.0174655436939</td></tr><tr><td>gender_uf</td><td>0.00903351697811</td><td>0.0</td></tr><tr><td>asian</td><td>0.00734122681329</td><td>0.0115798945</td></tr><tr><td>gender_u</td><td>0.00715305514088</td><td>0.0142031110115</td></tr><tr><td>sharp</td><td>0.00630313211026</td><td>0.0298976865522</td></tr><tr><td>gender_um</td><td>0.00612584310801</td><td>0.0</td></tr><tr><td>num_face</td><td>0.00297534954376</td><td>0.00258852933036</td></tr><tr><td>gender_fm</td><td>0.0</td><td>0.0</td></tr><tr><td>gender_fu</td><td>0.0</td><td>0.0</td></tr><tr><td>gender_uu</td><td>0.0</td><td>0.000402500040226</td></tr></table>"
      ],
      "text/plain": [
       "[('picture_30days', 0.21905014337790277, 0.25360895601670641),\n",
       " ('fav_ratio', 0.1731893285632734, 0.18358176008036239),\n",
       " ('bright', 0.10034608567116375, 0.084890865389028847),\n",
       " ('beauty', 0.098175137295016146, 0.1126971137685481),\n",
       " ('white', 0.044481025500005614, 0.03329526663859151),\n",
       " ('same_locale', 0.04094345928054173, 0.0029508455929819345),\n",
       " ('update_profile_daily', 0.032335599691709724, 0.042829111302119208),\n",
       " ('gender_f', 0.029102128727055462, 0.031327138477128369),\n",
       " ('gender_ff', 0.025841051288008982, 0.0051315764129942036),\n",
       " ('wink_daily', 0.023976873131098409, 0.04363845778626145),\n",
       " ('gender_mm,gender_mf', 0.02186337441298606, 0.011756928087005151),\n",
       " ('gender_mu', 0.018104744977089148, 0.0081988196481295531),\n",
       " ('distance', 0.016394391555195811, 0.012635723368635977),\n",
       " ('same_country', 0.015065471965847852, 0.024236346987958183),\n",
       " ('age', 0.015120470452400099, 0.00036974219042640929),\n",
       " ('gender_m', 0.013484244979274964, 0.0),\n",
       " ('picture_daily', 0.013193977673992633, 0.029148283644331432),\n",
       " ('indian', 0.011331528055195354, 0.01746554369385497),\n",
       " ('gender_uf', 0.0090335169781068439, 0.0),\n",
       " ('asian', 0.0073412268132916902, 0.011579894499986533),\n",
       " ('gender_u', 0.0071530551408755527, 0.014203111011460545),\n",
       " ('sharp', 0.0063031321102579377, 0.029897686552245849),\n",
       " ('gender_um', 0.0061258431080052278, 0.0),\n",
       " ('num_face', 0.0029753495437601957, 0.0025885293303560251),\n",
       " ('gender_fm', 0.0, 0.0),\n",
       " ('gender_fu', 0.0, 0.0),\n",
       " ('gender_uu', 0.0, 0.00040250004022620981)]"
      ]
     },
     "execution_count": 43,
     "metadata": {},
     "output_type": "execute_result"
    }
   ],
   "source": [
    "ftrs = [(n, s1, s2) for (n, s1, s2) in zip(feature_names, gb_us.feature_importances_, gb_iran.feature_importances_)]\n",
    "ftrs.sort(lambda x1, x2: int(10000.0*(x2[1]-x1[1])))\n",
    "utils.ListTable(ftrs).SetHeaders((\"Feature\", \"US\", \"Iran\"))"
   ]
  },
  {
   "cell_type": "code",
   "execution_count": 58,
   "metadata": {
    "collapsed": false
   },
   "outputs": [
    {
     "data": {
      "image/png": "[encoded data removed]",
      "text/plain": [
       "<matplotlib.figure.Figure at 0x7f58ec7fd7d0>"
      ]
     },
     "metadata": {},
     "output_type": "display_data"
    }
   ],
   "source": [
    "y_us_score = gb_us.predict_proba(X_us_test)\n",
    "precision_us, recall_us, _ = precision_recall_curve(y_us_test, y_us_score[:,1])\n",
    "y_iran_score = gb_us.predict_proba(X_iran_test)\n",
    "precision_iran, recall_iran, _ = precision_recall_curve(y_iran_test, y_iran_score[:,1])\n",
    "utils.drawPRCurves(((recall_us, precision_us, \"US\"),(recall_iran, precision_iran, \"Iran\")))"
   ]
  },
  {
   "cell_type": "code",
   "execution_count": null,
   "metadata": {
    "collapsed": true
   },
   "outputs": [],
   "source": []
  }
 ],
 "metadata": {
  "kernelspec": {
   "display_name": "Python 2",
   "language": "python",
   "name": "python2"
  },
  "language_info": {
   "codemirror_mode": {
    "name": "ipython",
    "version": 2
   },
   "file_extension": ".py",
   "mimetype": "text/x-python",
   "name": "python",
   "nbconvert_exporter": "python",
   "pygments_lexer": "ipython2",
   "version": "2.7.10"
  }
 },
 "nbformat": 4,
 "nbformat_minor": 0
}
