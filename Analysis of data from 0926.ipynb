{
 "cells": [
  {
   "cell_type": "code",
   "execution_count": 53,
   "metadata": {
    "collapsed": false
   },
   "outputs": [
    {
     "data": {
      "text/plain": [
       "<module 'convert_to_pairs' from 'convert_to_pairs.pyc'>"
      ]
     },
     "execution_count": 53,
     "metadata": {},
     "output_type": "execute_result"
    }
   ],
   "source": [
    "%matplotlib inline\n",
    "import numpy as np\n",
    "import utils\n",
    "reload(utils)\n",
    "import convert_to_pairs\n",
    "reload(convert_to_pairs)"
   ]
  },
  {
   "cell_type": "code",
   "execution_count": 54,
   "metadata": {
    "collapsed": false
   },
   "outputs": [
    {
     "name": "stdout",
     "output_type": "stream",
     "text": [
      "CPU times: user 20.7 s, sys: 764 ms, total: 21.5 s\n",
      "Wall time: 21.5 s\n"
     ]
    }
   ],
   "source": [
    "%time X_us_train, X_us_test, y_us_train, y_us_test = utils.LoadDataset_0926('data_0926/US', 0.33)"
   ]
  },
  {
   "cell_type": "code",
   "execution_count": 55,
   "metadata": {
    "collapsed": false
   },
   "outputs": [
    {
     "name": "stdout",
     "output_type": "stream",
     "text": [
      "CPU times: user 3min 55s, sys: 1.45 s, total: 3min 57s\n",
      "Wall time: 3min 57s\n",
      "US  mean_precision:0.967086583283 roc_auc_score :0.83587068057\n"
     ]
    }
   ],
   "source": [
    "from sklearn.linear_model import LogisticRegression\n",
    "lr_us = LogisticRegression(penalty='l2')\n",
    "%time lr_us= lr_us.fit(X_us_train, y_us_train)\n",
    "print \"US\", utils.classifierMetrics(lr_us, X_us_test, y_us_test)"
   ]
  },
  {
   "cell_type": "code",
   "execution_count": 56,
   "metadata": {
    "collapsed": false
   },
   "outputs": [
    {
     "name": "stdout",
     "output_type": "stream",
     "text": [
      "      Iter       Train Loss   Remaining Time \n",
      "         1           0.2598           37.41m\n",
      "         2           0.2487           28.69m\n",
      "         3           0.2409           25.71m\n",
      "         4           0.2350           24.11m\n",
      "         5           0.2302           23.21m\n",
      "         6           0.2263           22.52m\n",
      "         7           0.2231           21.97m\n",
      "         8           0.2206           21.43m\n",
      "         9           0.2184           21.05m\n",
      "        10           0.2164           20.73m\n",
      "        20           0.2074           17.56m\n",
      "        30           0.2045           15.24m\n",
      "        40           0.2032           12.99m\n",
      "        50           0.2024           10.88m\n",
      "        60           0.2020            8.68m\n",
      "        70           0.2017            6.51m\n",
      "        80           0.2014            4.35m\n",
      "        90           0.2012            2.17m\n",
      "       100           0.2010            0.00s\n",
      "CPU times: user 21min 38s, sys: 196 ms, total: 21min 38s\n",
      "Wall time: 21min 39s\n"
     ]
    }
   ],
   "source": [
    "from sklearn.ensemble import GradientBoostingClassifier\n",
    "gb_us = GradientBoostingClassifier(verbose=1)\n",
    "%time gb_us= gb_us.fit(X_us_train, y_us_train)"
   ]
  },
  {
   "cell_type": "code",
   "execution_count": 57,
   "metadata": {
    "collapsed": false
   },
   "outputs": [
    {
     "name": "stdout",
     "output_type": "stream",
     "text": [
      "US  mean_precision:0.968219978943 roc_auc_score :0.897228288905\n"
     ]
    }
   ],
   "source": [
    "print \"US\", utils.classifierMetrics(gb_us, X_us_test, y_us_test)"
   ]
  },
  {
   "cell_type": "code",
   "execution_count": 58,
   "metadata": {
    "collapsed": false
   },
   "outputs": [
    {
     "name": "stderr",
     "output_type": "stream",
     "text": [
      "[Parallel(n_jobs=4)]: Done   1 out of 100 | elapsed:   23.2s remaining: 38.2min\n",
      "[Parallel(n_jobs=4)]: Done 100 out of 100 | elapsed: 10.1min finished\n"
     ]
    },
    {
     "name": "stdout",
     "output_type": "stream",
     "text": [
      "CPU times: user 39min 31s, sys: 5.02 s, total: 39min 36s\n",
      "Wall time: 10min 7s\n"
     ]
    }
   ],
   "source": [
    "from sklearn.ensemble import RandomForestClassifier\n",
    "rndf_us = RandomForestClassifier(n_estimators=100, max_depth=None, random_state=0, n_jobs=4,verbose=1)\n",
    "%time rndf_us = rndf_us.fit(X_us_train, y_us_train)"
   ]
  },
  {
   "cell_type": "code",
   "execution_count": 59,
   "metadata": {
    "collapsed": false
   },
   "outputs": [
    {
     "name": "stderr",
     "output_type": "stream",
     "text": [
      "[Parallel(n_jobs=4)]: Done   1 out of 100 | elapsed:    1.0s remaining:  1.6min\n",
      "[Parallel(n_jobs=4)]: Done 100 out of 100 | elapsed:   24.6s finished\n",
      "[Parallel(n_jobs=4)]: Done   1 out of 100 | elapsed:    1.0s remaining:  1.7min\n",
      "[Parallel(n_jobs=4)]: Done 100 out of 100 | elapsed:   24.7s finished\n"
     ]
    },
    {
     "name": "stdout",
     "output_type": "stream",
     "text": [
      " mean_precision:0.968041144931 roc_auc_score :0.875752454729\n"
     ]
    }
   ],
   "source": [
    "print  utils.classifierMetrics(rndf_us, X_us_test, y_us_test)"
   ]
  },
  {
   "cell_type": "code",
   "execution_count": 60,
   "metadata": {
    "collapsed": false
   },
   "outputs": [
    {
     "data": {
      "text/html": [
       "<table><tr><th>Feature</th><th>US</th></tr><tr><td>user_fav_ratio</td><td>0.273173407731</td></tr><tr><td>distance</td><td>0.0916298016357</td></tr><tr><td>wink_daily</td><td>0.0883327429038</td></tr><tr><td>cand_user_agediff</td><td>0.0822082612824</td></tr><tr><td>user_tango_age</td><td>0.0739011922458</td></tr><tr><td>cand_tango_age</td><td>0.0655791250321</td></tr><tr><td>picture_daily</td><td>0.0448140654638</td></tr><tr><td>beauty</td><td>0.0369184129721</td></tr><tr><td>age</td><td>0.0357148140326</td></tr><tr><td>fav_ratio</td><td>0.03210629839</td></tr><tr><td>update_profile_daily</td><td>0.0306317130999</td></tr><tr><td>bright</td><td>0.0304924263566</td></tr><tr><td>sharp</td><td>0.0250424233351</td></tr><tr><td>white</td><td>0.0153363978214</td></tr><tr><td>asian</td><td>0.0120927564676</td></tr><tr><td>indian</td><td>0.0111795460927</td></tr><tr><td>same_locale</td><td>0.00848250205889</td></tr><tr><td>picture_30days</td><td>0.00790335681795</td></tr><tr><td>num_face</td><td>0.00727254280905</td></tr><tr><td>swipe_source</td><td>0.00647401281439</td></tr><tr><td>same_country</td><td>0.00509957677409</td></tr><tr><td>gender_mm</td><td>0.00320436666195</td></tr><tr><td>gender_um</td><td>0.00267580632544</td></tr><tr><td>gender_u</td><td>0.00250244899932</td></tr><tr><td>gender_mu</td><td>0.00238475657878</td></tr><tr><td>gender_m</td><td>0.00237059559135</td></tr><tr><td>gender_uu</td><td>0.00145103500744</td></tr><tr><td>gender_f</td><td>0.000457842012301</td></tr><tr><td>gender_mf</td><td>0.000355488825095</td></tr><tr><td>gender_uf</td><td>0.00020652641657</td></tr><tr><td>gender_fm</td><td>3.11789375858e-06</td></tr><tr><td>gender_ff</td><td>7.73575456141e-08</td></tr><tr><td>gender_fu</td><td>2.5621932053e-06</td></tr></table>"
      ],
      "text/plain": [
       "[('user_fav_ratio', 0.27317340773141363),\n",
       " ('distance', 0.091629801635741664),\n",
       " ('wink_daily', 0.088332742903814682),\n",
       " ('cand_user_agediff', 0.08220826128241876),\n",
       " ('user_tango_age', 0.073901192245829347),\n",
       " ('cand_tango_age', 0.065579125032069377),\n",
       " ('picture_daily', 0.044814065463757297),\n",
       " ('beauty', 0.036918412972079429),\n",
       " ('age', 0.035714814032603119),\n",
       " ('fav_ratio', 0.032106298389980858),\n",
       " ('update_profile_daily', 0.030631713099885428),\n",
       " ('bright', 0.030492426356624129),\n",
       " ('sharp', 0.025042423335061723),\n",
       " ('white', 0.015336397821351813),\n",
       " ('asian', 0.012092756467560839),\n",
       " ('indian', 0.01117954609268058),\n",
       " ('same_locale', 0.008482502058886043),\n",
       " ('picture_30days', 0.0079033568179536912),\n",
       " ('num_face', 0.0072725428090527613),\n",
       " ('swipe_source', 0.0064740128143854657),\n",
       " ('same_country', 0.0050995767740930576),\n",
       " ('gender_mm', 0.003204366661951404),\n",
       " ('gender_um', 0.0026758063254449542),\n",
       " ('gender_u', 0.00250244899931813),\n",
       " ('gender_mu', 0.0023847565787807998),\n",
       " ('gender_m', 0.0023705955913461692),\n",
       " ('gender_uu', 0.0014510350074397277),\n",
       " ('gender_f', 0.00045784201230123644),\n",
       " ('gender_mf', 0.00035548882509480248),\n",
       " ('gender_uf', 0.00020652641656957677),\n",
       " ('gender_fm', 3.117893758581225e-06),\n",
       " ('gender_ff', 7.7357545614083072e-08),\n",
       " ('gender_fu', 2.5621932053044847e-06)]"
      ]
     },
     "execution_count": 60,
     "metadata": {},
     "output_type": "execute_result"
    }
   ],
   "source": [
    "ftrs = [(n, s1) for (n, s1) in zip(utils.feature_names_0926, rndf_us.feature_importances_)]\n",
    "ftrs.sort(lambda x1, x2: int(10000.0*(x2[1]-x1[1])))\n",
    "utils.ListTable(ftrs).SetHeaders((\"Feature\", \"US\"))"
   ]
  },
  {
   "cell_type": "code",
   "execution_count": null,
   "metadata": {
    "collapsed": true
   },
   "outputs": [],
   "source": []
  }
 ],
 "metadata": {
  "kernelspec": {
   "display_name": "Python 2",
   "language": "python",
   "name": "python2"
  },
  "language_info": {
   "codemirror_mode": {
    "name": "ipython",
    "version": 2
   },
   "file_extension": ".py",
   "mimetype": "text/x-python",
   "name": "python",
   "nbconvert_exporter": "python",
   "pygments_lexer": "ipython2",
   "version": "2.7.10"
  }
 },
 "nbformat": 4,
 "nbformat_minor": 0
}
