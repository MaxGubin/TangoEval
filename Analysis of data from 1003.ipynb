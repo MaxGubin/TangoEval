{
 "cells": [
  {
   "cell_type": "code",
   "execution_count": 1,
   "metadata": {
    "collapsed": false
   },
   "outputs": [
    {
     "data": {
      "text/plain": [
       "<module 'utils' from 'utils.pyc'>"
      ]
     },
     "execution_count": 1,
     "metadata": {},
     "output_type": "execute_result"
    }
   ],
   "source": [
    "%matplotlib inline\n",
    "import numpy as np\n",
    "import utils\n",
    "reload(utils)\n"
   ]
  },
  {
   "cell_type": "code",
   "execution_count": 2,
   "metadata": {
    "collapsed": false
   },
   "outputs": [
    {
     "name": "stdout",
     "output_type": "stream",
     "text": [
      "CPU times: user 20.2 s, sys: 9.6 s, total: 29.8 s\n",
      "Wall time: 1min 10s\n"
     ]
    }
   ],
   "source": [
    "%time X_us_train, X_us_test, y_us_train, y_us_test = utils.LoadDataset_1003('data_1003/US', 0.33)"
   ]
  },
  {
   "cell_type": "code",
   "execution_count": 3,
   "metadata": {
    "collapsed": false
   },
   "outputs": [
    {
     "data": {
      "text/plain": [
       "(6188398, 28)"
      ]
     },
     "execution_count": 3,
     "metadata": {},
     "output_type": "execute_result"
    }
   ],
   "source": [
    "X_us_train.shape"
   ]
  },
  {
   "cell_type": "code",
   "execution_count": 6,
   "metadata": {
    "collapsed": false
   },
   "outputs": [
    {
     "name": "stderr",
     "output_type": "stream",
     "text": [
      "[Parallel(n_jobs=4)]: Done   1 out of   4 | elapsed:   16.8s remaining:   50.5s\n",
      "[Parallel(n_jobs=4)]: Done   4 out of   4 | elapsed:   17.4s finished\n"
     ]
    },
    {
     "name": "stdout",
     "output_type": "stream",
     "text": [
      "CPU times: user 51 s, sys: 3.2 s, total: 54.2 s\n",
      "Wall time: 18.5 s\n"
     ]
    }
   ],
   "source": [
    "from sklearn.ensemble import RandomForestClassifier\n",
    "rndf_us = RandomForestClassifier(n_estimators=4, max_depth=5, random_state=0, n_jobs=4,verbose=1)\n",
    "%time rndf_us = rndf_us.fit(X_us_train, y_us_train)"
   ]
  },
  {
   "cell_type": "code",
   "execution_count": 11,
   "metadata": {
    "collapsed": false
   },
   "outputs": [
    {
     "data": {
      "text/plain": [
       "<sklearn.tree._tree.Tree at 0x7f83e6e782a0>"
      ]
     },
     "execution_count": 11,
     "metadata": {},
     "output_type": "execute_result"
    }
   ],
   "source": [
    "rndf_us.estimators_[0].tree_"
   ]
  },
  {
   "cell_type": "code",
   "execution_count": 5,
   "metadata": {
    "collapsed": false
   },
   "outputs": [
    {
     "name": "stderr",
     "output_type": "stream",
     "text": [
      "[Parallel(n_jobs=4)]: Done   1 out of 100 | elapsed:    2.0s remaining:  3.4min\n",
      "[Parallel(n_jobs=4)]: Done 100 out of 100 | elapsed:   52.1s finished\n",
      "[Parallel(n_jobs=4)]: Done   1 out of 100 | elapsed:    2.0s remaining:  3.3min\n",
      "[Parallel(n_jobs=4)]: Done 100 out of 100 | elapsed:   52.3s finished\n"
     ]
    },
    {
     "ename": "TypeError",
     "evalue": "list indices must be integers, not tuple",
     "output_type": "error",
     "traceback": [
      "\u001b[1;31m---------------------------------------------------------------------------\u001b[0m",
      "\u001b[1;31mTypeError\u001b[0m                                 Traceback (most recent call last)",
      "\u001b[1;32m<ipython-input-5-b93eb5456638>\u001b[0m in \u001b[0;36m<module>\u001b[1;34m()\u001b[0m\n\u001b[1;32m----> 1\u001b[1;33m \u001b[1;32mprint\u001b[0m  \u001b[0mutils\u001b[0m\u001b[1;33m.\u001b[0m\u001b[0mclassifierMetrics\u001b[0m\u001b[1;33m(\u001b[0m\u001b[0mrndf_us\u001b[0m\u001b[1;33m,\u001b[0m \u001b[0mX_us_test\u001b[0m\u001b[1;33m,\u001b[0m \u001b[0my_us_test\u001b[0m\u001b[1;33m)\u001b[0m\u001b[1;33m\u001b[0m\u001b[0m\n\u001b[0m",
      "\u001b[1;32m/home/max/local/home/max/work/tango/utils.pyc\u001b[0m in \u001b[0;36mclassifierMetrics\u001b[1;34m(classifier, X_test, y_test)\u001b[0m\n\u001b[0;32m    149\u001b[0m     return (' mean_precision:' + str(classifier.score(X_test, y_test)) +\n\u001b[0;32m    150\u001b[0m             ' roc_auc_score :' + str(roc_auc_score(y_test,\n\u001b[1;32m--> 151\u001b[1;33m                 classifier.predict_proba(X_test)[:,1])))\n\u001b[0m",
      "\u001b[1;31mTypeError\u001b[0m: list indices must be integers, not tuple"
     ]
    }
   ],
   "source": [
    "print  utils.classifierMetrics(rndf_us, X_us_test, y_us_test)"
   ]
  },
  {
   "cell_type": "code",
   "execution_count": 7,
   "metadata": {
    "collapsed": true
   },
   "outputs": [],
   "source": [
    "import cPickle\n",
    "cPickle.dump(rndf_us, open(\"random_forest.pkl\",\"w\"))"
   ]
  },
  {
   "cell_type": "code",
   "execution_count": null,
   "metadata": {
    "collapsed": false
   },
   "outputs": [],
   "source": [
    "ftrs = [(n, s1) for (n, s1) in zip(utils.feature_names_0926, rndf_us.feature_importances_)]\n",
    "ftrs.sort(lambda x1, x2: int(10000.0*(x2[1]-x1[1])))\n",
    "utils.ListTable(ftrs).SetHeaders((\"Feature\", \"US\"))"
   ]
  },
  {
   "cell_type": "code",
   "execution_count": null,
   "metadata": {
    "collapsed": true
   },
   "outputs": [],
   "source": []
  }
 ],
 "metadata": {
  "kernelspec": {
   "display_name": "Python 2",
   "language": "python",
   "name": "python2"
  },
  "language_info": {
   "codemirror_mode": {
    "name": "ipython",
    "version": 2
   },
   "file_extension": ".py",
   "mimetype": "text/x-python",
   "name": "python",
   "nbconvert_exporter": "python",
   "pygments_lexer": "ipython2",
   "version": "2.7.10"
  }
 },
 "nbformat": 4,
 "nbformat_minor": 0
}
